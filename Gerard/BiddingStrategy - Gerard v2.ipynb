{
 "cells": [
  {
   "cell_type": "markdown",
   "metadata": {
    "slideshow": {
     "slide_type": "slide"
    }
   },
   "source": [
    "# Web Economics\n",
    "\n",
    "## Bidding Strategy\n",
    "#### Gerard Cardoso\n",
    "\n",
    "Date: 11th April 2017"
   ]
  },
  {
   "cell_type": "markdown",
   "metadata": {
    "slideshow": {
     "slide_type": "slide"
    }
   },
   "source": [
    "## Overview\n",
    "The purpose of this project is to bid for stuff."
   ]
  },
  {
   "cell_type": "code",
   "execution_count": 1,
   "metadata": {
    "collapsed": false
   },
   "outputs": [],
   "source": [
    "#Step1: Importing the libraries\n",
    "import matplotlib.pyplot as plt\n",
    "import numpy as np\n",
    "import pandas as pd\n",
    "import seaborn as sns #seaborn makes plots cleaner and extends functionality\n",
    "import itertools\n",
    "pd.options.mode.chained_assignment = None  # default='warn'\n",
    "\n",
    "#Import additional required libraries\n",
    "from sklearn.neighbors import KNeighborsClassifier\n",
    "from sklearn.linear_model import LinearRegression, LogisticRegression\n",
    "from sklearn.svm import LinearSVC, SVC, OneClassSVM\n",
    "from sklearn.gaussian_process import GaussianProcessClassifier\n",
    "from sklearn.gaussian_process.kernels import RBF\n",
    "from sklearn.tree import DecisionTreeClassifier\n",
    "from sklearn.ensemble import AdaBoostClassifier, RandomForestClassifier\n",
    "from sklearn.naive_bayes import GaussianNB\n",
    "from sklearn.feature_selection import RFE\n",
    "from sklearn.model_selection import cross_val_score, train_test_split, GridSearchCV\n",
    "from sklearn.neural_network import MLPClassifier\n",
    "from sklearn.metrics import accuracy_score, f1_score, precision_score, recall_score, precision_recall_fscore_support\n",
    "from sklearn.metrics import confusion_matrix\n",
    "from sklearn import preprocessing\n",
    "from sklearn.decomposition import PCA\n",
    "from mpl_toolkits.mplot3d import Axes3D\n",
    "\n",
    "pd.options.mode.chained_assignment = None  # default='warn'\n",
    "\n",
    "#magic to show the plots within the notebook\n",
    "%matplotlib inline\n",
    "\n",
    "import time\n",
    "import random\n",
    "import re"
   ]
  },
  {
   "cell_type": "markdown",
   "metadata": {},
   "source": [
    "# Data PreProcessing"
   ]
  },
  {
   "cell_type": "code",
   "execution_count": 37,
   "metadata": {
    "collapsed": false
   },
   "outputs": [],
   "source": [
    "#Step 2: Importing the dataset\n",
    "df_train = pd.read_csv(\"dataset/train.csv\", low_memory=False)\n",
    "df_val = pd.read_csv(\"dataset/validation.csv\", low_memory=False)\n",
    "df_test = pd.read_csv(\"dataset/test.csv\", low_memory=False)\n",
    "\n",
    "#remove error data\n",
    "df_train = df_train[df_train.bidprice >= df_train.payprice]"
   ]
  },
  {
   "cell_type": "code",
   "execution_count": 3,
   "metadata": {
    "collapsed": false
   },
   "outputs": [],
   "source": [
    "#df_train.info()"
   ]
  },
  {
   "cell_type": "markdown",
   "metadata": {},
   "source": [
    "### Scoring Function"
   ]
  },
  {
   "cell_type": "code",
   "execution_count": 3,
   "metadata": {
    "collapsed": true
   },
   "outputs": [],
   "source": [
    "def calc_score(n_impressions, n_clicks, n_rows_in_budget, cash_in_bank):\n",
    "    #alphas = [0.8, 0.15, 0, 0.05, 0.005, 0.005]\n",
    "    alphas = [1, 0, 0, 0, 0, 0]\n",
    "    normalizers = [1, 100, 1, glob_cash_in_bank, 1/500, 1/100]\n",
    "    alphas = [x/y for x, y in zip(alphas, normalizers)]\n",
    "    \n",
    "    if n_impressions > 0:\n",
    "        ctr = n_clicks/n_impressions\n",
    "    else:\n",
    "        ctr = 0\n",
    "    conversions = n_clicks\n",
    "    cvr = 0\n",
    "    spend = glob_cash_in_bank - cash_in_bank\n",
    "    \n",
    "    if n_impressions > 0:\n",
    "        avg_cpm = spend/(n_impressions*1000)\n",
    "    else:\n",
    "        avg_cpm = 1\n",
    "    if n_clicks > 0:\n",
    "        avg_cpc = spend/n_clicks\n",
    "    else:\n",
    "        avg_cpc = 1\n",
    "    \n",
    "    score_components = [\n",
    "                        alphas[0]*ctr,\n",
    "                        alphas[1]*conversions,\n",
    "                        alphas[2]*cvr,\n",
    "                        -1*alphas[3]*(spend),\n",
    "                        -1*alphas[4]*(avg_cpm), \n",
    "                        -1*alphas[5]*(avg_cpc)\n",
    "                       ]\n",
    "    score = sum(score_components)\n",
    "    return score, score_components"
   ]
  },
  {
   "cell_type": "markdown",
   "metadata": {},
   "source": [
    "### Constant Bidding Strategy"
   ]
  },
  {
   "cell_type": "code",
   "execution_count": 4,
   "metadata": {
    "collapsed": false
   },
   "outputs": [],
   "source": [
    "#Global Variables\n",
    "glob_cash_in_bank = 6250000 #6250\n",
    "glob_results = dict()\n",
    "columns = ['strategy_name', 'strategy_params', 'strategy_impressions', 'strategy_clicks', 'n_rows_in_budget', 'cash_in_bank', \\\n",
    "           'score', 'score_components']\n",
    "#del(df_results)\n",
    "df_results = pd.DataFrame(columns = columns)\n",
    "np.random.seed(27)"
   ]
  },
  {
   "cell_type": "code",
   "execution_count": 5,
   "metadata": {
    "collapsed": false
   },
   "outputs": [],
   "source": [
    "def apply_strategy(df, strategy, params):\n",
    "    col_name = 'strategy_' + strategy + '_bid'\n",
    "    col_name_validate = 'strategy_' + strategy + '_validate'\n",
    "    if col_name not in df.keys():\n",
    "        df[col_name] = int(0)\n",
    "    if col_name_validate not in df.keys():\n",
    "        df[col_name_validate] = int(0)\n",
    "        \n",
    "    if strategy == 'constant':\n",
    "        df[col_name] = int(params)\n",
    "    elif strategy == 'random':        \n",
    "        df[col_name] = np.random.choice(range(100, params), df.shape[0])\n",
    "    elif strategy == 'linear':\n",
    "        df[col_name] = params * df['clickpred']/0.08\n",
    "        \n",
    "    df[col_name_validate] = df[col_name] - df['payprice']\n",
    "    \n",
    "    return df\n",
    "\n",
    "\n",
    "def validate_strategy(df, strategy, params):\n",
    "    col_name = 'strategy_' + strategy + '_bid'\n",
    "    col_name_validate = 'strategy_' + strategy + '_validate'\n",
    "    \n",
    "    df_temp = df[df[col_name_validate] > 0]\n",
    "    \n",
    "    cash_in_bank = glob_cash_in_bank    \n",
    "    strategy_impressions = 0\n",
    "    strategy_clicks = 0\n",
    "    n_rows_in_budget = 0\n",
    "    \n",
    "    if strategy == 'constant' or strategy == 'random' or strategy == 'linear':\n",
    "        for row in df_temp.iterrows():\n",
    "            row = row[1]\n",
    "            if cash_in_bank > 0:\n",
    "                n_rows_in_budget += 1\n",
    "                if row[col_name] > row['payprice']:\n",
    "                    strategy_impressions += 1\n",
    "                    strategy_clicks += int(row['click'])\n",
    "                    cash_in_bank -= row['payprice']\n",
    "            else:\n",
    "                break\n",
    "\n",
    "        score, score_components = calc_score(strategy_impressions, strategy_clicks, n_rows_in_budget, cash_in_bank)\n",
    "        dfr_index = len(df_results)\n",
    "        df_results.loc[dfr_index] = [strategy, params, strategy_impressions, strategy_clicks, n_rows_in_budget, cash_in_bank, score, score_components]"
   ]
  },
  {
   "cell_type": "code",
   "execution_count": 6,
   "metadata": {
    "collapsed": false
   },
   "outputs": [
    {
     "name": "stdout",
     "output_type": "stream",
     "text": [
      "C: 100  |  Score: 0.0006  |  Time taken: 14.66s\n",
      "C: 125  |  Score: 0.0006  |  Time taken: 12.87s\n",
      "C: 150  |  Score: 0.0006  |  Time taken: 12.48s\n",
      "C: 175  |  Score: 0.0006  |  Time taken: 13.54s\n",
      "C: 200  |  Score: 0.0007  |  Time taken: 15.06s\n",
      "C: 225  |  Score: 0.0008  |  Time taken: 12.54s\n",
      "C: 250  |  Score: 0.0008  |  Time taken: 11.67s\n",
      "C: 275  |  Score: 0.0008  |  Time taken: 11.78s\n",
      "C: 300  |  Score: 0.0008  |  Time taken: 12.42s\n",
      "C: 325  |  Score: 0.0008  |  Time taken: 10.36s\n",
      "C: 350  |  Score: 0.0008  |  Time taken: 10.44s\n",
      "C: 375  |  Score: 0.0008  |  Time taken: 10.75s\n",
      "C: 400  |  Score: 0.0008  |  Time taken: 13.64s\n",
      "C: 425  |  Score: 0.0008  |  Time taken: 12.29s\n",
      "C: 450  |  Score: 0.0008  |  Time taken: 11.68s\n",
      "C: 475  |  Score: 0.0008  |  Time taken: 11.05s\n"
     ]
    }
   ],
   "source": [
    "c_list = list(np.arange(100,500,25))\n",
    "for i, c in enumerate(c_list):\n",
    "    start_time = time.time()\n",
    "    strategy = 'constant'\n",
    "    validate_strategy(apply_strategy(df, strategy, c), strategy, c)\n",
    "    print (\"C: {}  |  Score: {:.4f}  |  Time taken: {:.2f}s\".format(c, float(df_results.tail(1).score), time.time() - start_time))"
   ]
  },
  {
   "cell_type": "code",
   "execution_count": 8,
   "metadata": {
    "collapsed": false
   },
   "outputs": [
    {
     "name": "stdout",
     "output_type": "stream",
     "text": [
      "C: 200  |  Score: 0.0000  |  Time taken: 0.65s\n",
      "C: 250  |  Score: 0.0000  |  Time taken: 0.37s\n",
      "C: 300  |  Score: 0.0000  |  Time taken: 1.28s\n",
      "C: 350  |  Score: 0.0000  |  Time taken: 2.18s\n",
      "C: 400  |  Score: 0.0000  |  Time taken: 1.99s\n",
      "C: 450  |  Score: 0.0000  |  Time taken: 1.89s\n",
      "C: 500  |  Score: 0.0000  |  Time taken: 2.08s\n",
      "C: 550  |  Score: 0.0000  |  Time taken: 2.27s\n",
      "C: 600  |  Score: 0.0000  |  Time taken: 2.36s\n",
      "C: 650  |  Score: 0.0000  |  Time taken: 2.48s\n",
      "C: 700  |  Score: 0.0000  |  Time taken: 2.59s\n",
      "C: 750  |  Score: 0.0000  |  Time taken: 2.77s\n",
      "C: 800  |  Score: 0.0000  |  Time taken: 3.06s\n",
      "C: 850  |  Score: 0.0000  |  Time taken: 4.08s\n",
      "C: 900  |  Score: 0.0000  |  Time taken: 4.10s\n",
      "C: 950  |  Score: 0.0000  |  Time taken: 3.39s\n"
     ]
    }
   ],
   "source": [
    "c_list = list(np.arange(200,1000,50))\n",
    "for i, c in enumerate(c_list):\n",
    "    start_time = time.time()\n",
    "    strategy = 'random'\n",
    "    validate_strategy(apply_strategy(df, strategy, c), strategy, c)\n",
    "    print (\"C: {}  |  Score: {:.4f}  |  Time taken: {:.2f}s\".format(c, float(df_results.tail(1).score), time.time() - start_time))"
   ]
  },
  {
   "cell_type": "code",
   "execution_count": 146,
   "metadata": {
    "collapsed": false
   },
   "outputs": [
    {
     "name": "stdout",
     "output_type": "stream",
     "text": [
      "C: 10  |  Score: 0.0000  |  Time taken: 0.09s\n",
      "C: 15  |  Score: 0.0000  |  Time taken: 0.10s\n",
      "C: 20  |  Score: 0.0370  |  Time taken: 0.11s\n",
      "C: 25  |  Score: 0.0300  |  Time taken: 0.31s\n",
      "C: 30  |  Score: 0.0309  |  Time taken: 0.47s\n",
      "C: 35  |  Score: 0.0316  |  Time taken: 0.84s\n",
      "C: 40  |  Score: 0.0204  |  Time taken: 1.09s\n",
      "C: 45  |  Score: 0.0105  |  Time taken: 1.31s\n"
     ]
    }
   ],
   "source": [
    "c_list = list(np.arange(10,50,5))\n",
    "for i, c in enumerate(c_list):\n",
    "    start_time = time.time()\n",
    "    strategy = 'linear'\n",
    "    validate_strategy(apply_strategy(df, strategy, c), strategy, c)\n",
    "    print (\"C: {}  |  Score: {:.4f}  |  Time taken: {:.2f}s\".format(c, float(df_results.tail(1).score), time.time() - start_time))"
   ]
  },
  {
   "cell_type": "code",
   "execution_count": 147,
   "metadata": {
    "collapsed": false
   },
   "outputs": [
    {
     "data": {
      "text/html": [
       "<div>\n",
       "<table border=\"1\" class=\"dataframe\">\n",
       "  <thead>\n",
       "    <tr style=\"text-align: right;\">\n",
       "      <th></th>\n",
       "      <th>strategy_name</th>\n",
       "      <th>strategy_params</th>\n",
       "      <th>strategy_impressions</th>\n",
       "      <th>strategy_clicks</th>\n",
       "      <th>n_rows_in_budget</th>\n",
       "      <th>cash_in_bank</th>\n",
       "      <th>score</th>\n",
       "      <th>score_components</th>\n",
       "    </tr>\n",
       "  </thead>\n",
       "  <tbody>\n",
       "    <tr>\n",
       "      <th>0</th>\n",
       "      <td>constant</td>\n",
       "      <td>100.0</td>\n",
       "      <td>0.0</td>\n",
       "      <td>0.0</td>\n",
       "      <td>0.0</td>\n",
       "      <td>25000.0</td>\n",
       "      <td>0.000000</td>\n",
       "      <td>[0.0, 0.0, 0.0, -0.0, -0.0, -0.0]</td>\n",
       "    </tr>\n",
       "    <tr>\n",
       "      <th>1</th>\n",
       "      <td>constant</td>\n",
       "      <td>125.0</td>\n",
       "      <td>0.0</td>\n",
       "      <td>0.0</td>\n",
       "      <td>0.0</td>\n",
       "      <td>25000.0</td>\n",
       "      <td>0.000000</td>\n",
       "      <td>[0.0, 0.0, 0.0, -0.0, -0.0, -0.0]</td>\n",
       "    </tr>\n",
       "    <tr>\n",
       "      <th>2</th>\n",
       "      <td>constant</td>\n",
       "      <td>150.0</td>\n",
       "      <td>0.0</td>\n",
       "      <td>0.0</td>\n",
       "      <td>0.0</td>\n",
       "      <td>25000.0</td>\n",
       "      <td>0.000000</td>\n",
       "      <td>[0.0, 0.0, 0.0, -0.0, -0.0, -0.0]</td>\n",
       "    </tr>\n",
       "    <tr>\n",
       "      <th>3</th>\n",
       "      <td>constant</td>\n",
       "      <td>175.0</td>\n",
       "      <td>0.0</td>\n",
       "      <td>0.0</td>\n",
       "      <td>0.0</td>\n",
       "      <td>25000.0</td>\n",
       "      <td>0.000000</td>\n",
       "      <td>[0.0, 0.0, 0.0, -0.0, -0.0, -0.0]</td>\n",
       "    </tr>\n",
       "    <tr>\n",
       "      <th>4</th>\n",
       "      <td>constant</td>\n",
       "      <td>200.0</td>\n",
       "      <td>0.0</td>\n",
       "      <td>0.0</td>\n",
       "      <td>0.0</td>\n",
       "      <td>25000.0</td>\n",
       "      <td>0.000000</td>\n",
       "      <td>[0.0, 0.0, 0.0, -0.0, -0.0, -0.0]</td>\n",
       "    </tr>\n",
       "    <tr>\n",
       "      <th>5</th>\n",
       "      <td>constant</td>\n",
       "      <td>225.0</td>\n",
       "      <td>0.0</td>\n",
       "      <td>0.0</td>\n",
       "      <td>0.0</td>\n",
       "      <td>25000.0</td>\n",
       "      <td>0.000000</td>\n",
       "      <td>[0.0, 0.0, 0.0, -0.0, -0.0, -0.0]</td>\n",
       "    </tr>\n",
       "    <tr>\n",
       "      <th>6</th>\n",
       "      <td>constant</td>\n",
       "      <td>250.0</td>\n",
       "      <td>106.0</td>\n",
       "      <td>0.0</td>\n",
       "      <td>106.0</td>\n",
       "      <td>-169.0</td>\n",
       "      <td>0.000000</td>\n",
       "      <td>[0.0, 0.0, 0.0, -0.0, -0.0, -0.0]</td>\n",
       "    </tr>\n",
       "    <tr>\n",
       "      <th>7</th>\n",
       "      <td>constant</td>\n",
       "      <td>275.0</td>\n",
       "      <td>105.0</td>\n",
       "      <td>0.0</td>\n",
       "      <td>105.0</td>\n",
       "      <td>-220.0</td>\n",
       "      <td>0.000000</td>\n",
       "      <td>[0.0, 0.0, 0.0, -0.0, -0.0, -0.0]</td>\n",
       "    </tr>\n",
       "    <tr>\n",
       "      <th>8</th>\n",
       "      <td>constant</td>\n",
       "      <td>300.0</td>\n",
       "      <td>99.0</td>\n",
       "      <td>0.0</td>\n",
       "      <td>99.0</td>\n",
       "      <td>-259.0</td>\n",
       "      <td>0.000000</td>\n",
       "      <td>[0.0, 0.0, 0.0, -0.0, -0.0, -0.0]</td>\n",
       "    </tr>\n",
       "    <tr>\n",
       "      <th>9</th>\n",
       "      <td>constant</td>\n",
       "      <td>325.0</td>\n",
       "      <td>92.0</td>\n",
       "      <td>0.0</td>\n",
       "      <td>92.0</td>\n",
       "      <td>-15.0</td>\n",
       "      <td>0.000000</td>\n",
       "      <td>[0.0, 0.0, 0.0, -0.0, -0.0, -0.0]</td>\n",
       "    </tr>\n",
       "    <tr>\n",
       "      <th>10</th>\n",
       "      <td>constant</td>\n",
       "      <td>350.0</td>\n",
       "      <td>92.0</td>\n",
       "      <td>0.0</td>\n",
       "      <td>92.0</td>\n",
       "      <td>-15.0</td>\n",
       "      <td>0.000000</td>\n",
       "      <td>[0.0, 0.0, 0.0, -0.0, -0.0, -0.0]</td>\n",
       "    </tr>\n",
       "    <tr>\n",
       "      <th>11</th>\n",
       "      <td>constant</td>\n",
       "      <td>375.0</td>\n",
       "      <td>92.0</td>\n",
       "      <td>0.0</td>\n",
       "      <td>92.0</td>\n",
       "      <td>-15.0</td>\n",
       "      <td>0.000000</td>\n",
       "      <td>[0.0, 0.0, 0.0, -0.0, -0.0, -0.0]</td>\n",
       "    </tr>\n",
       "    <tr>\n",
       "      <th>12</th>\n",
       "      <td>constant</td>\n",
       "      <td>400.0</td>\n",
       "      <td>92.0</td>\n",
       "      <td>0.0</td>\n",
       "      <td>92.0</td>\n",
       "      <td>-15.0</td>\n",
       "      <td>0.000000</td>\n",
       "      <td>[0.0, 0.0, 0.0, -0.0, -0.0, -0.0]</td>\n",
       "    </tr>\n",
       "    <tr>\n",
       "      <th>13</th>\n",
       "      <td>constant</td>\n",
       "      <td>425.0</td>\n",
       "      <td>92.0</td>\n",
       "      <td>0.0</td>\n",
       "      <td>92.0</td>\n",
       "      <td>-15.0</td>\n",
       "      <td>0.000000</td>\n",
       "      <td>[0.0, 0.0, 0.0, -0.0, -0.0, -0.0]</td>\n",
       "    </tr>\n",
       "    <tr>\n",
       "      <th>14</th>\n",
       "      <td>constant</td>\n",
       "      <td>450.0</td>\n",
       "      <td>92.0</td>\n",
       "      <td>0.0</td>\n",
       "      <td>92.0</td>\n",
       "      <td>-15.0</td>\n",
       "      <td>0.000000</td>\n",
       "      <td>[0.0, 0.0, 0.0, -0.0, -0.0, -0.0]</td>\n",
       "    </tr>\n",
       "    <tr>\n",
       "      <th>15</th>\n",
       "      <td>constant</td>\n",
       "      <td>475.0</td>\n",
       "      <td>92.0</td>\n",
       "      <td>0.0</td>\n",
       "      <td>92.0</td>\n",
       "      <td>-15.0</td>\n",
       "      <td>0.000000</td>\n",
       "      <td>[0.0, 0.0, 0.0, -0.0, -0.0, -0.0]</td>\n",
       "    </tr>\n",
       "    <tr>\n",
       "      <th>16</th>\n",
       "      <td>random</td>\n",
       "      <td>200.0</td>\n",
       "      <td>0.0</td>\n",
       "      <td>0.0</td>\n",
       "      <td>0.0</td>\n",
       "      <td>25000.0</td>\n",
       "      <td>0.000000</td>\n",
       "      <td>[0.0, 0.0, 0.0, -0.0, -0.0, -0.0]</td>\n",
       "    </tr>\n",
       "    <tr>\n",
       "      <th>17</th>\n",
       "      <td>random</td>\n",
       "      <td>250.0</td>\n",
       "      <td>108.0</td>\n",
       "      <td>0.0</td>\n",
       "      <td>108.0</td>\n",
       "      <td>-172.0</td>\n",
       "      <td>0.000000</td>\n",
       "      <td>[0.0, 0.0, 0.0, -0.0, -0.0, -0.0]</td>\n",
       "    </tr>\n",
       "    <tr>\n",
       "      <th>18</th>\n",
       "      <td>random</td>\n",
       "      <td>300.0</td>\n",
       "      <td>104.0</td>\n",
       "      <td>0.0</td>\n",
       "      <td>104.0</td>\n",
       "      <td>-100.0</td>\n",
       "      <td>0.000000</td>\n",
       "      <td>[0.0, 0.0, 0.0, -0.0, -0.0, -0.0]</td>\n",
       "    </tr>\n",
       "    <tr>\n",
       "      <th>19</th>\n",
       "      <td>random</td>\n",
       "      <td>350.0</td>\n",
       "      <td>96.0</td>\n",
       "      <td>0.0</td>\n",
       "      <td>96.0</td>\n",
       "      <td>-174.0</td>\n",
       "      <td>0.000000</td>\n",
       "      <td>[0.0, 0.0, 0.0, -0.0, -0.0, -0.0]</td>\n",
       "    </tr>\n",
       "    <tr>\n",
       "      <th>20</th>\n",
       "      <td>random</td>\n",
       "      <td>400.0</td>\n",
       "      <td>93.0</td>\n",
       "      <td>0.0</td>\n",
       "      <td>93.0</td>\n",
       "      <td>-139.0</td>\n",
       "      <td>0.000000</td>\n",
       "      <td>[0.0, 0.0, 0.0, -0.0, -0.0, -0.0]</td>\n",
       "    </tr>\n",
       "    <tr>\n",
       "      <th>21</th>\n",
       "      <td>random</td>\n",
       "      <td>450.0</td>\n",
       "      <td>94.0</td>\n",
       "      <td>0.0</td>\n",
       "      <td>94.0</td>\n",
       "      <td>-87.0</td>\n",
       "      <td>0.000000</td>\n",
       "      <td>[0.0, 0.0, 0.0, -0.0, -0.0, -0.0]</td>\n",
       "    </tr>\n",
       "    <tr>\n",
       "      <th>22</th>\n",
       "      <td>random</td>\n",
       "      <td>500.0</td>\n",
       "      <td>91.0</td>\n",
       "      <td>0.0</td>\n",
       "      <td>91.0</td>\n",
       "      <td>-8.0</td>\n",
       "      <td>0.000000</td>\n",
       "      <td>[0.0, 0.0, 0.0, -0.0, -0.0, -0.0]</td>\n",
       "    </tr>\n",
       "    <tr>\n",
       "      <th>23</th>\n",
       "      <td>random</td>\n",
       "      <td>550.0</td>\n",
       "      <td>92.0</td>\n",
       "      <td>0.0</td>\n",
       "      <td>92.0</td>\n",
       "      <td>-27.0</td>\n",
       "      <td>0.000000</td>\n",
       "      <td>[0.0, 0.0, 0.0, -0.0, -0.0, -0.0]</td>\n",
       "    </tr>\n",
       "    <tr>\n",
       "      <th>24</th>\n",
       "      <td>random</td>\n",
       "      <td>600.0</td>\n",
       "      <td>93.0</td>\n",
       "      <td>0.0</td>\n",
       "      <td>93.0</td>\n",
       "      <td>-185.0</td>\n",
       "      <td>0.000000</td>\n",
       "      <td>[0.0, 0.0, 0.0, -0.0, -0.0, -0.0]</td>\n",
       "    </tr>\n",
       "    <tr>\n",
       "      <th>25</th>\n",
       "      <td>random</td>\n",
       "      <td>650.0</td>\n",
       "      <td>93.0</td>\n",
       "      <td>0.0</td>\n",
       "      <td>93.0</td>\n",
       "      <td>-28.0</td>\n",
       "      <td>0.000000</td>\n",
       "      <td>[0.0, 0.0, 0.0, -0.0, -0.0, -0.0]</td>\n",
       "    </tr>\n",
       "    <tr>\n",
       "      <th>26</th>\n",
       "      <td>random</td>\n",
       "      <td>700.0</td>\n",
       "      <td>93.0</td>\n",
       "      <td>0.0</td>\n",
       "      <td>93.0</td>\n",
       "      <td>-144.0</td>\n",
       "      <td>0.000000</td>\n",
       "      <td>[0.0, 0.0, 0.0, -0.0, -0.0, -0.0]</td>\n",
       "    </tr>\n",
       "    <tr>\n",
       "      <th>27</th>\n",
       "      <td>random</td>\n",
       "      <td>750.0</td>\n",
       "      <td>92.0</td>\n",
       "      <td>0.0</td>\n",
       "      <td>92.0</td>\n",
       "      <td>-35.0</td>\n",
       "      <td>0.000000</td>\n",
       "      <td>[0.0, 0.0, 0.0, -0.0, -0.0, -0.0]</td>\n",
       "    </tr>\n",
       "    <tr>\n",
       "      <th>28</th>\n",
       "      <td>random</td>\n",
       "      <td>800.0</td>\n",
       "      <td>92.0</td>\n",
       "      <td>0.0</td>\n",
       "      <td>92.0</td>\n",
       "      <td>-64.0</td>\n",
       "      <td>0.000000</td>\n",
       "      <td>[0.0, 0.0, 0.0, -0.0, -0.0, -0.0]</td>\n",
       "    </tr>\n",
       "    <tr>\n",
       "      <th>29</th>\n",
       "      <td>random</td>\n",
       "      <td>850.0</td>\n",
       "      <td>93.0</td>\n",
       "      <td>0.0</td>\n",
       "      <td>93.0</td>\n",
       "      <td>-287.0</td>\n",
       "      <td>0.000000</td>\n",
       "      <td>[0.0, 0.0, 0.0, -0.0, -0.0, -0.0]</td>\n",
       "    </tr>\n",
       "    <tr>\n",
       "      <th>30</th>\n",
       "      <td>random</td>\n",
       "      <td>900.0</td>\n",
       "      <td>93.0</td>\n",
       "      <td>0.0</td>\n",
       "      <td>93.0</td>\n",
       "      <td>-208.0</td>\n",
       "      <td>0.000000</td>\n",
       "      <td>[0.0, 0.0, 0.0, -0.0, -0.0, -0.0]</td>\n",
       "    </tr>\n",
       "    <tr>\n",
       "      <th>31</th>\n",
       "      <td>random</td>\n",
       "      <td>950.0</td>\n",
       "      <td>92.0</td>\n",
       "      <td>0.0</td>\n",
       "      <td>92.0</td>\n",
       "      <td>-69.0</td>\n",
       "      <td>0.000000</td>\n",
       "      <td>[0.0, 0.0, 0.0, -0.0, -0.0, -0.0]</td>\n",
       "    </tr>\n",
       "    <tr>\n",
       "      <th>32</th>\n",
       "      <td>linear</td>\n",
       "      <td>20.0</td>\n",
       "      <td>108.0</td>\n",
       "      <td>4.0</td>\n",
       "      <td>108.0</td>\n",
       "      <td>-140.0</td>\n",
       "      <td>0.037037</td>\n",
       "      <td>[0.037037037037037035, 0.0, 0.0, -0.0, -0.0, -...</td>\n",
       "    </tr>\n",
       "    <tr>\n",
       "      <th>33</th>\n",
       "      <td>linear</td>\n",
       "      <td>30.0</td>\n",
       "      <td>97.0</td>\n",
       "      <td>3.0</td>\n",
       "      <td>97.0</td>\n",
       "      <td>-77.0</td>\n",
       "      <td>0.030928</td>\n",
       "      <td>[0.030927835051546393, 0.0, 0.0, -0.0, -0.0, -...</td>\n",
       "    </tr>\n",
       "    <tr>\n",
       "      <th>34</th>\n",
       "      <td>linear</td>\n",
       "      <td>40.0</td>\n",
       "      <td>98.0</td>\n",
       "      <td>2.0</td>\n",
       "      <td>98.0</td>\n",
       "      <td>-254.0</td>\n",
       "      <td>0.020408</td>\n",
       "      <td>[0.02040816326530612, 0.0, 0.0, -0.0, -0.0, -0.0]</td>\n",
       "    </tr>\n",
       "    <tr>\n",
       "      <th>35</th>\n",
       "      <td>linear</td>\n",
       "      <td>50.0</td>\n",
       "      <td>95.0</td>\n",
       "      <td>1.0</td>\n",
       "      <td>95.0</td>\n",
       "      <td>-168.0</td>\n",
       "      <td>0.010526</td>\n",
       "      <td>[0.010526315789473684, 0.0, 0.0, -0.0, -0.0, -...</td>\n",
       "    </tr>\n",
       "    <tr>\n",
       "      <th>36</th>\n",
       "      <td>linear</td>\n",
       "      <td>60.0</td>\n",
       "      <td>94.0</td>\n",
       "      <td>1.0</td>\n",
       "      <td>94.0</td>\n",
       "      <td>-72.0</td>\n",
       "      <td>0.010638</td>\n",
       "      <td>[0.010638297872340425, 0.0, 0.0, -0.0, -0.0, -...</td>\n",
       "    </tr>\n",
       "    <tr>\n",
       "      <th>37</th>\n",
       "      <td>linear</td>\n",
       "      <td>70.0</td>\n",
       "      <td>94.0</td>\n",
       "      <td>0.0</td>\n",
       "      <td>94.0</td>\n",
       "      <td>-42.0</td>\n",
       "      <td>0.000000</td>\n",
       "      <td>[0.0, 0.0, 0.0, -0.0, -0.0, -0.0]</td>\n",
       "    </tr>\n",
       "    <tr>\n",
       "      <th>38</th>\n",
       "      <td>linear</td>\n",
       "      <td>80.0</td>\n",
       "      <td>93.0</td>\n",
       "      <td>0.0</td>\n",
       "      <td>93.0</td>\n",
       "      <td>-9.0</td>\n",
       "      <td>0.000000</td>\n",
       "      <td>[0.0, 0.0, 0.0, -0.0, -0.0, -0.0]</td>\n",
       "    </tr>\n",
       "    <tr>\n",
       "      <th>39</th>\n",
       "      <td>linear</td>\n",
       "      <td>90.0</td>\n",
       "      <td>91.0</td>\n",
       "      <td>0.0</td>\n",
       "      <td>91.0</td>\n",
       "      <td>-221.0</td>\n",
       "      <td>0.000000</td>\n",
       "      <td>[0.0, 0.0, 0.0, -0.0, -0.0, -0.0]</td>\n",
       "    </tr>\n",
       "    <tr>\n",
       "      <th>40</th>\n",
       "      <td>linear</td>\n",
       "      <td>100.0</td>\n",
       "      <td>94.0</td>\n",
       "      <td>0.0</td>\n",
       "      <td>94.0</td>\n",
       "      <td>-66.0</td>\n",
       "      <td>0.000000</td>\n",
       "      <td>[0.0, 0.0, 0.0, -0.0, -0.0, -0.0]</td>\n",
       "    </tr>\n",
       "    <tr>\n",
       "      <th>41</th>\n",
       "      <td>linear</td>\n",
       "      <td>110.0</td>\n",
       "      <td>95.0</td>\n",
       "      <td>0.0</td>\n",
       "      <td>95.0</td>\n",
       "      <td>-238.0</td>\n",
       "      <td>0.000000</td>\n",
       "      <td>[0.0, 0.0, 0.0, -0.0, -0.0, -0.0]</td>\n",
       "    </tr>\n",
       "    <tr>\n",
       "      <th>42</th>\n",
       "      <td>linear</td>\n",
       "      <td>120.0</td>\n",
       "      <td>93.0</td>\n",
       "      <td>0.0</td>\n",
       "      <td>93.0</td>\n",
       "      <td>-82.0</td>\n",
       "      <td>0.000000</td>\n",
       "      <td>[0.0, 0.0, 0.0, -0.0, -0.0, -0.0]</td>\n",
       "    </tr>\n",
       "    <tr>\n",
       "      <th>43</th>\n",
       "      <td>linear</td>\n",
       "      <td>130.0</td>\n",
       "      <td>91.0</td>\n",
       "      <td>0.0</td>\n",
       "      <td>91.0</td>\n",
       "      <td>-111.0</td>\n",
       "      <td>0.000000</td>\n",
       "      <td>[0.0, 0.0, 0.0, -0.0, -0.0, -0.0]</td>\n",
       "    </tr>\n",
       "    <tr>\n",
       "      <th>44</th>\n",
       "      <td>linear</td>\n",
       "      <td>140.0</td>\n",
       "      <td>91.0</td>\n",
       "      <td>0.0</td>\n",
       "      <td>91.0</td>\n",
       "      <td>-111.0</td>\n",
       "      <td>0.000000</td>\n",
       "      <td>[0.0, 0.0, 0.0, -0.0, -0.0, -0.0]</td>\n",
       "    </tr>\n",
       "    <tr>\n",
       "      <th>45</th>\n",
       "      <td>linear</td>\n",
       "      <td>150.0</td>\n",
       "      <td>91.0</td>\n",
       "      <td>0.0</td>\n",
       "      <td>91.0</td>\n",
       "      <td>-111.0</td>\n",
       "      <td>0.000000</td>\n",
       "      <td>[0.0, 0.0, 0.0, -0.0, -0.0, -0.0]</td>\n",
       "    </tr>\n",
       "    <tr>\n",
       "      <th>46</th>\n",
       "      <td>linear</td>\n",
       "      <td>160.0</td>\n",
       "      <td>91.0</td>\n",
       "      <td>0.0</td>\n",
       "      <td>91.0</td>\n",
       "      <td>-111.0</td>\n",
       "      <td>0.000000</td>\n",
       "      <td>[0.0, 0.0, 0.0, -0.0, -0.0, -0.0]</td>\n",
       "    </tr>\n",
       "    <tr>\n",
       "      <th>47</th>\n",
       "      <td>linear</td>\n",
       "      <td>170.0</td>\n",
       "      <td>91.0</td>\n",
       "      <td>0.0</td>\n",
       "      <td>91.0</td>\n",
       "      <td>-111.0</td>\n",
       "      <td>0.000000</td>\n",
       "      <td>[0.0, 0.0, 0.0, -0.0, -0.0, -0.0]</td>\n",
       "    </tr>\n",
       "    <tr>\n",
       "      <th>48</th>\n",
       "      <td>linear</td>\n",
       "      <td>180.0</td>\n",
       "      <td>91.0</td>\n",
       "      <td>0.0</td>\n",
       "      <td>91.0</td>\n",
       "      <td>-111.0</td>\n",
       "      <td>0.000000</td>\n",
       "      <td>[0.0, 0.0, 0.0, -0.0, -0.0, -0.0]</td>\n",
       "    </tr>\n",
       "    <tr>\n",
       "      <th>49</th>\n",
       "      <td>linear</td>\n",
       "      <td>190.0</td>\n",
       "      <td>93.0</td>\n",
       "      <td>0.0</td>\n",
       "      <td>93.0</td>\n",
       "      <td>-78.0</td>\n",
       "      <td>0.000000</td>\n",
       "      <td>[0.0, 0.0, 0.0, -0.0, -0.0, -0.0]</td>\n",
       "    </tr>\n",
       "    <tr>\n",
       "      <th>50</th>\n",
       "      <td>linear</td>\n",
       "      <td>10.0</td>\n",
       "      <td>0.0</td>\n",
       "      <td>0.0</td>\n",
       "      <td>0.0</td>\n",
       "      <td>25000.0</td>\n",
       "      <td>0.000000</td>\n",
       "      <td>[0.0, 0.0, 0.0, -0.0, -0.0, -0.0]</td>\n",
       "    </tr>\n",
       "    <tr>\n",
       "      <th>51</th>\n",
       "      <td>linear</td>\n",
       "      <td>15.0</td>\n",
       "      <td>0.0</td>\n",
       "      <td>0.0</td>\n",
       "      <td>0.0</td>\n",
       "      <td>25000.0</td>\n",
       "      <td>0.000000</td>\n",
       "      <td>[0.0, 0.0, 0.0, -0.0, -0.0, -0.0]</td>\n",
       "    </tr>\n",
       "    <tr>\n",
       "      <th>52</th>\n",
       "      <td>linear</td>\n",
       "      <td>20.0</td>\n",
       "      <td>108.0</td>\n",
       "      <td>4.0</td>\n",
       "      <td>108.0</td>\n",
       "      <td>-140.0</td>\n",
       "      <td>0.037037</td>\n",
       "      <td>[0.037037037037037035, 0.0, 0.0, -0.0, -0.0, -...</td>\n",
       "    </tr>\n",
       "    <tr>\n",
       "      <th>53</th>\n",
       "      <td>linear</td>\n",
       "      <td>25.0</td>\n",
       "      <td>100.0</td>\n",
       "      <td>3.0</td>\n",
       "      <td>100.0</td>\n",
       "      <td>-233.0</td>\n",
       "      <td>0.030000</td>\n",
       "      <td>[0.03, 0.0, 0.0, -0.0, -0.0, -0.0]</td>\n",
       "    </tr>\n",
       "    <tr>\n",
       "      <th>54</th>\n",
       "      <td>linear</td>\n",
       "      <td>30.0</td>\n",
       "      <td>97.0</td>\n",
       "      <td>3.0</td>\n",
       "      <td>97.0</td>\n",
       "      <td>-77.0</td>\n",
       "      <td>0.030928</td>\n",
       "      <td>[0.030927835051546393, 0.0, 0.0, -0.0, -0.0, -...</td>\n",
       "    </tr>\n",
       "    <tr>\n",
       "      <th>55</th>\n",
       "      <td>linear</td>\n",
       "      <td>35.0</td>\n",
       "      <td>95.0</td>\n",
       "      <td>3.0</td>\n",
       "      <td>95.0</td>\n",
       "      <td>-219.0</td>\n",
       "      <td>0.031579</td>\n",
       "      <td>[0.031578947368421054, 0.0, 0.0, -0.0, -0.0, -...</td>\n",
       "    </tr>\n",
       "    <tr>\n",
       "      <th>56</th>\n",
       "      <td>linear</td>\n",
       "      <td>40.0</td>\n",
       "      <td>98.0</td>\n",
       "      <td>2.0</td>\n",
       "      <td>98.0</td>\n",
       "      <td>-254.0</td>\n",
       "      <td>0.020408</td>\n",
       "      <td>[0.02040816326530612, 0.0, 0.0, -0.0, -0.0, -0.0]</td>\n",
       "    </tr>\n",
       "    <tr>\n",
       "      <th>57</th>\n",
       "      <td>linear</td>\n",
       "      <td>45.0</td>\n",
       "      <td>95.0</td>\n",
       "      <td>1.0</td>\n",
       "      <td>95.0</td>\n",
       "      <td>-260.0</td>\n",
       "      <td>0.010526</td>\n",
       "      <td>[0.010526315789473684, 0.0, 0.0, -0.0, -0.0, -...</td>\n",
       "    </tr>\n",
       "  </tbody>\n",
       "</table>\n",
       "</div>"
      ],
      "text/plain": [
       "   strategy_name  strategy_params  strategy_impressions  strategy_clicks  \\\n",
       "0       constant            100.0                   0.0              0.0   \n",
       "1       constant            125.0                   0.0              0.0   \n",
       "2       constant            150.0                   0.0              0.0   \n",
       "3       constant            175.0                   0.0              0.0   \n",
       "4       constant            200.0                   0.0              0.0   \n",
       "5       constant            225.0                   0.0              0.0   \n",
       "6       constant            250.0                 106.0              0.0   \n",
       "7       constant            275.0                 105.0              0.0   \n",
       "8       constant            300.0                  99.0              0.0   \n",
       "9       constant            325.0                  92.0              0.0   \n",
       "10      constant            350.0                  92.0              0.0   \n",
       "11      constant            375.0                  92.0              0.0   \n",
       "12      constant            400.0                  92.0              0.0   \n",
       "13      constant            425.0                  92.0              0.0   \n",
       "14      constant            450.0                  92.0              0.0   \n",
       "15      constant            475.0                  92.0              0.0   \n",
       "16        random            200.0                   0.0              0.0   \n",
       "17        random            250.0                 108.0              0.0   \n",
       "18        random            300.0                 104.0              0.0   \n",
       "19        random            350.0                  96.0              0.0   \n",
       "20        random            400.0                  93.0              0.0   \n",
       "21        random            450.0                  94.0              0.0   \n",
       "22        random            500.0                  91.0              0.0   \n",
       "23        random            550.0                  92.0              0.0   \n",
       "24        random            600.0                  93.0              0.0   \n",
       "25        random            650.0                  93.0              0.0   \n",
       "26        random            700.0                  93.0              0.0   \n",
       "27        random            750.0                  92.0              0.0   \n",
       "28        random            800.0                  92.0              0.0   \n",
       "29        random            850.0                  93.0              0.0   \n",
       "30        random            900.0                  93.0              0.0   \n",
       "31        random            950.0                  92.0              0.0   \n",
       "32        linear             20.0                 108.0              4.0   \n",
       "33        linear             30.0                  97.0              3.0   \n",
       "34        linear             40.0                  98.0              2.0   \n",
       "35        linear             50.0                  95.0              1.0   \n",
       "36        linear             60.0                  94.0              1.0   \n",
       "37        linear             70.0                  94.0              0.0   \n",
       "38        linear             80.0                  93.0              0.0   \n",
       "39        linear             90.0                  91.0              0.0   \n",
       "40        linear            100.0                  94.0              0.0   \n",
       "41        linear            110.0                  95.0              0.0   \n",
       "42        linear            120.0                  93.0              0.0   \n",
       "43        linear            130.0                  91.0              0.0   \n",
       "44        linear            140.0                  91.0              0.0   \n",
       "45        linear            150.0                  91.0              0.0   \n",
       "46        linear            160.0                  91.0              0.0   \n",
       "47        linear            170.0                  91.0              0.0   \n",
       "48        linear            180.0                  91.0              0.0   \n",
       "49        linear            190.0                  93.0              0.0   \n",
       "50        linear             10.0                   0.0              0.0   \n",
       "51        linear             15.0                   0.0              0.0   \n",
       "52        linear             20.0                 108.0              4.0   \n",
       "53        linear             25.0                 100.0              3.0   \n",
       "54        linear             30.0                  97.0              3.0   \n",
       "55        linear             35.0                  95.0              3.0   \n",
       "56        linear             40.0                  98.0              2.0   \n",
       "57        linear             45.0                  95.0              1.0   \n",
       "\n",
       "    n_rows_in_budget  cash_in_bank     score  \\\n",
       "0                0.0       25000.0  0.000000   \n",
       "1                0.0       25000.0  0.000000   \n",
       "2                0.0       25000.0  0.000000   \n",
       "3                0.0       25000.0  0.000000   \n",
       "4                0.0       25000.0  0.000000   \n",
       "5                0.0       25000.0  0.000000   \n",
       "6              106.0        -169.0  0.000000   \n",
       "7              105.0        -220.0  0.000000   \n",
       "8               99.0        -259.0  0.000000   \n",
       "9               92.0         -15.0  0.000000   \n",
       "10              92.0         -15.0  0.000000   \n",
       "11              92.0         -15.0  0.000000   \n",
       "12              92.0         -15.0  0.000000   \n",
       "13              92.0         -15.0  0.000000   \n",
       "14              92.0         -15.0  0.000000   \n",
       "15              92.0         -15.0  0.000000   \n",
       "16               0.0       25000.0  0.000000   \n",
       "17             108.0        -172.0  0.000000   \n",
       "18             104.0        -100.0  0.000000   \n",
       "19              96.0        -174.0  0.000000   \n",
       "20              93.0        -139.0  0.000000   \n",
       "21              94.0         -87.0  0.000000   \n",
       "22              91.0          -8.0  0.000000   \n",
       "23              92.0         -27.0  0.000000   \n",
       "24              93.0        -185.0  0.000000   \n",
       "25              93.0         -28.0  0.000000   \n",
       "26              93.0        -144.0  0.000000   \n",
       "27              92.0         -35.0  0.000000   \n",
       "28              92.0         -64.0  0.000000   \n",
       "29              93.0        -287.0  0.000000   \n",
       "30              93.0        -208.0  0.000000   \n",
       "31              92.0         -69.0  0.000000   \n",
       "32             108.0        -140.0  0.037037   \n",
       "33              97.0         -77.0  0.030928   \n",
       "34              98.0        -254.0  0.020408   \n",
       "35              95.0        -168.0  0.010526   \n",
       "36              94.0         -72.0  0.010638   \n",
       "37              94.0         -42.0  0.000000   \n",
       "38              93.0          -9.0  0.000000   \n",
       "39              91.0        -221.0  0.000000   \n",
       "40              94.0         -66.0  0.000000   \n",
       "41              95.0        -238.0  0.000000   \n",
       "42              93.0         -82.0  0.000000   \n",
       "43              91.0        -111.0  0.000000   \n",
       "44              91.0        -111.0  0.000000   \n",
       "45              91.0        -111.0  0.000000   \n",
       "46              91.0        -111.0  0.000000   \n",
       "47              91.0        -111.0  0.000000   \n",
       "48              91.0        -111.0  0.000000   \n",
       "49              93.0         -78.0  0.000000   \n",
       "50               0.0       25000.0  0.000000   \n",
       "51               0.0       25000.0  0.000000   \n",
       "52             108.0        -140.0  0.037037   \n",
       "53             100.0        -233.0  0.030000   \n",
       "54              97.0         -77.0  0.030928   \n",
       "55              95.0        -219.0  0.031579   \n",
       "56              98.0        -254.0  0.020408   \n",
       "57              95.0        -260.0  0.010526   \n",
       "\n",
       "                                     score_components  \n",
       "0                   [0.0, 0.0, 0.0, -0.0, -0.0, -0.0]  \n",
       "1                   [0.0, 0.0, 0.0, -0.0, -0.0, -0.0]  \n",
       "2                   [0.0, 0.0, 0.0, -0.0, -0.0, -0.0]  \n",
       "3                   [0.0, 0.0, 0.0, -0.0, -0.0, -0.0]  \n",
       "4                   [0.0, 0.0, 0.0, -0.0, -0.0, -0.0]  \n",
       "5                   [0.0, 0.0, 0.0, -0.0, -0.0, -0.0]  \n",
       "6                   [0.0, 0.0, 0.0, -0.0, -0.0, -0.0]  \n",
       "7                   [0.0, 0.0, 0.0, -0.0, -0.0, -0.0]  \n",
       "8                   [0.0, 0.0, 0.0, -0.0, -0.0, -0.0]  \n",
       "9                   [0.0, 0.0, 0.0, -0.0, -0.0, -0.0]  \n",
       "10                  [0.0, 0.0, 0.0, -0.0, -0.0, -0.0]  \n",
       "11                  [0.0, 0.0, 0.0, -0.0, -0.0, -0.0]  \n",
       "12                  [0.0, 0.0, 0.0, -0.0, -0.0, -0.0]  \n",
       "13                  [0.0, 0.0, 0.0, -0.0, -0.0, -0.0]  \n",
       "14                  [0.0, 0.0, 0.0, -0.0, -0.0, -0.0]  \n",
       "15                  [0.0, 0.0, 0.0, -0.0, -0.0, -0.0]  \n",
       "16                  [0.0, 0.0, 0.0, -0.0, -0.0, -0.0]  \n",
       "17                  [0.0, 0.0, 0.0, -0.0, -0.0, -0.0]  \n",
       "18                  [0.0, 0.0, 0.0, -0.0, -0.0, -0.0]  \n",
       "19                  [0.0, 0.0, 0.0, -0.0, -0.0, -0.0]  \n",
       "20                  [0.0, 0.0, 0.0, -0.0, -0.0, -0.0]  \n",
       "21                  [0.0, 0.0, 0.0, -0.0, -0.0, -0.0]  \n",
       "22                  [0.0, 0.0, 0.0, -0.0, -0.0, -0.0]  \n",
       "23                  [0.0, 0.0, 0.0, -0.0, -0.0, -0.0]  \n",
       "24                  [0.0, 0.0, 0.0, -0.0, -0.0, -0.0]  \n",
       "25                  [0.0, 0.0, 0.0, -0.0, -0.0, -0.0]  \n",
       "26                  [0.0, 0.0, 0.0, -0.0, -0.0, -0.0]  \n",
       "27                  [0.0, 0.0, 0.0, -0.0, -0.0, -0.0]  \n",
       "28                  [0.0, 0.0, 0.0, -0.0, -0.0, -0.0]  \n",
       "29                  [0.0, 0.0, 0.0, -0.0, -0.0, -0.0]  \n",
       "30                  [0.0, 0.0, 0.0, -0.0, -0.0, -0.0]  \n",
       "31                  [0.0, 0.0, 0.0, -0.0, -0.0, -0.0]  \n",
       "32  [0.037037037037037035, 0.0, 0.0, -0.0, -0.0, -...  \n",
       "33  [0.030927835051546393, 0.0, 0.0, -0.0, -0.0, -...  \n",
       "34  [0.02040816326530612, 0.0, 0.0, -0.0, -0.0, -0.0]  \n",
       "35  [0.010526315789473684, 0.0, 0.0, -0.0, -0.0, -...  \n",
       "36  [0.010638297872340425, 0.0, 0.0, -0.0, -0.0, -...  \n",
       "37                  [0.0, 0.0, 0.0, -0.0, -0.0, -0.0]  \n",
       "38                  [0.0, 0.0, 0.0, -0.0, -0.0, -0.0]  \n",
       "39                  [0.0, 0.0, 0.0, -0.0, -0.0, -0.0]  \n",
       "40                  [0.0, 0.0, 0.0, -0.0, -0.0, -0.0]  \n",
       "41                  [0.0, 0.0, 0.0, -0.0, -0.0, -0.0]  \n",
       "42                  [0.0, 0.0, 0.0, -0.0, -0.0, -0.0]  \n",
       "43                  [0.0, 0.0, 0.0, -0.0, -0.0, -0.0]  \n",
       "44                  [0.0, 0.0, 0.0, -0.0, -0.0, -0.0]  \n",
       "45                  [0.0, 0.0, 0.0, -0.0, -0.0, -0.0]  \n",
       "46                  [0.0, 0.0, 0.0, -0.0, -0.0, -0.0]  \n",
       "47                  [0.0, 0.0, 0.0, -0.0, -0.0, -0.0]  \n",
       "48                  [0.0, 0.0, 0.0, -0.0, -0.0, -0.0]  \n",
       "49                  [0.0, 0.0, 0.0, -0.0, -0.0, -0.0]  \n",
       "50                  [0.0, 0.0, 0.0, -0.0, -0.0, -0.0]  \n",
       "51                  [0.0, 0.0, 0.0, -0.0, -0.0, -0.0]  \n",
       "52  [0.037037037037037035, 0.0, 0.0, -0.0, -0.0, -...  \n",
       "53                 [0.03, 0.0, 0.0, -0.0, -0.0, -0.0]  \n",
       "54  [0.030927835051546393, 0.0, 0.0, -0.0, -0.0, -...  \n",
       "55  [0.031578947368421054, 0.0, 0.0, -0.0, -0.0, -...  \n",
       "56  [0.02040816326530612, 0.0, 0.0, -0.0, -0.0, -0.0]  \n",
       "57  [0.010526315789473684, 0.0, 0.0, -0.0, -0.0, -...  "
      ]
     },
     "execution_count": 147,
     "metadata": {},
     "output_type": "execute_result"
    }
   ],
   "source": [
    "df_results"
   ]
  },
  {
   "cell_type": "code",
   "execution_count": 91,
   "metadata": {
    "collapsed": true
   },
   "outputs": [],
   "source": [
    "df_results.to_csv('df_results.csv', encoding='utf8')"
   ]
  },
  {
   "cell_type": "markdown",
   "metadata": {},
   "source": [
    "# Feature Engineering"
   ]
  },
  {
   "cell_type": "code",
   "execution_count": 38,
   "metadata": {
    "collapsed": true
   },
   "outputs": [],
   "source": [
    "def get_buckets(price):\n",
    "    if price == 0:\n",
    "        return [1,0,0,0,0]\n",
    "    elif price > 0 and price <= 10:\n",
    "        return [0,1,0,0,0]\n",
    "    elif price > 10 and price <= 50:\n",
    "        return [0,0,1,0,0]\n",
    "    elif price > 50 and price <=100:\n",
    "        return [0,0,0,1,0]\n",
    "    elif price > 100:\n",
    "        return [0,0,0,0,1]\n",
    "    \n",
    "def get_slotdim(row):\n",
    "    return str(row['slotwidth']) + str(row['slotheight'])\n",
    "\n",
    "# Turning slotdimension into new feature\n",
    "df_train[\"slotdim\"] = df_train.apply(get_slotdim, axis=1)\n",
    "\n",
    "# Adding a OS, browser feature and a bucketed slotprice feature\n",
    "df_train[\"os\"],df_train[\"browser\"] = zip(*df_train.useragent.map(lambda x: x.split(\"_\")))\n",
    "df_train[\"slotprice_0\"],df_train[\"slotprice_1_10\"],df_train[\"slotprice_11_50\"],df_train[\"slotprice_50_100\"],df_train[\"slotprice_50\"] = zip(*df_train.slotprice.map(get_buckets))\n",
    "df = df_train.copy()\n",
    "\n",
    "df_val[\"os\"],df_val[\"browser\"] = zip(*df_val.useragent.map(lambda x: x.split(\"_\")))\n",
    "df_val[\"slotprice_0\"],df_val[\"slotprice_1_10\"],df_val[\"slotprice_11_50\"],df_val[\"slotprice_50_100\"],df_val[\"slotprice_50\"] = zip(*df_val.slotprice.map(get_buckets))\n",
    "df_val[\"slotdim\"] = df_val.apply(get_slotdim, axis=1)\n",
    "df2 = df_val.copy()"
   ]
  },
  {
   "cell_type": "code",
   "execution_count": 60,
   "metadata": {
    "collapsed": true
   },
   "outputs": [],
   "source": [
    "def get_num_usertag(x):\n",
    "    if pd.isnull(x):\n",
    "        return 0.0\n",
    "    else:\n",
    "        return len(x)\n",
    "    \n",
    "df_train['num_usertag'] = df_train.usertag.apply(get_num_usertag)\n",
    "df_val['num_usertag'] = df_val.usertag.apply(get_num_usertag)"
   ]
  },
  {
   "cell_type": "markdown",
   "metadata": {
    "collapsed": true
   },
   "source": [
    "# Linear CTR Prediction"
   ]
  },
  {
   "cell_type": "code",
   "execution_count": 3,
   "metadata": {
    "collapsed": false
   },
   "outputs": [],
   "source": [
    "def get_slotdim(row):\n",
    "    return str(row['slotwidth']) + str(row['slotheight'])\n",
    "\n",
    "df[\"slotdim\"] = df.apply(get_slotdim, axis=1)\n",
    "#df2['slotdim'] = df2.apply(get_slotdim, axis=1)"
   ]
  },
  {
   "cell_type": "code",
   "execution_count": 4,
   "metadata": {
    "collapsed": true
   },
   "outputs": [],
   "source": [
    "# Imputation\n",
    "df.slotvisibility.fillna(value=df.slotvisibility.value_counts().index[0], inplace=True)\n",
    "df.slotformat.fillna(value=df.slotformat.value_counts().index[0], inplace=True)\n",
    "df.keypage.fillna(value=df.keypage.value_counts().index[0], inplace=True)\n",
    "df.adexchange.fillna(value=df.adexchange.value_counts().index[0], inplace=True)\n",
    "df.url.fillna(value=df.url.value_counts().index[0], inplace=True)\n",
    "df.domain.fillna(value=df.domain.value_counts().index[0], inplace=True)\n",
    "\n",
    "# df2.slotvisibility.fillna(value=df.slotvisibility.value_counts().index[0], inplace=True)\n",
    "# df2.slotformat.fillna(value=df.slotformat.value_counts().index[0], inplace=True)\n",
    "# df2.keypage.fillna(value=df.keypage.value_counts().index[0], inplace=True)\n",
    "# df2.adexchange.fillna(value=df.adexchange.value_counts().index[0], inplace=True)\n",
    "# df2.url.fillna(value=df.url.value_counts().index[0], inplace=True)\n",
    "# df2.domain.fillna(value=df2.domain.value_counts().index[0], inplace=True)"
   ]
  },
  {
   "cell_type": "code",
   "execution_count": 5,
   "metadata": {
    "collapsed": false
   },
   "outputs": [],
   "source": [
    "features = list(df.columns)\n",
    "features_remove = ['click', 'bidid', 'logtype', 'userid', 'urlid', 'bidprice', 'payprice', 'usertag']\n",
    "features = [x for x in features if x not in features_remove]"
   ]
  },
  {
   "cell_type": "code",
   "execution_count": 6,
   "metadata": {
    "collapsed": false
   },
   "outputs": [],
   "source": [
    "from collections import defaultdict\n",
    "from sklearn.preprocessing import LabelEncoder, MinMaxScaler\n",
    "\n",
    "\n",
    "categorical = ['useragent', 'slotid', 'slotvisibility', 'creative', \n",
    "               'keypage', 'advertiser', 'slotdim', 'os', 'browser', 'url', 'domain', 'IP']\n",
    "\n",
    "le_dict = defaultdict(LabelEncoder)\n",
    "\n",
    "df[categorical] = df[categorical].apply(lambda x: le_dict[x.name].fit_transform(x))\n",
    "\n",
    "# for c in categorical:\n",
    "#     df2[c] = df2[c].map(lambda s: '<unknown>' if s not in le_dict[c].classes_ else s)\n",
    "#     le_dict[c].classes_ = np.append(le_dict[c].classes_, '<unknown>')\n",
    "\n",
    "# df2[categorical] = df2[categorical].apply(lambda x: le_dict[x.name].transform(x))\n",
    "\n",
    "# mms_dict = defaultdict(MinMaxScaler)\n",
    "\n",
    "# df[numerical] = df[numerical].apply(lambda x: mms_dict[x.name].fit_transform(x))\n",
    "# df2[numerical] = df2[numerical].apply(lambda x: mms_dict[x.name].transform(x))\n",
    "\n",
    "train_X = df[features].as_matrix()\n",
    "train_Y = df['click'].as_matrix()\n",
    "\n",
    "# val_X = df2[features].as_matrix()\n",
    "# val_Y = df2['click'].as_matrix()"
   ]
  },
  {
   "cell_type": "markdown",
   "metadata": {},
   "source": [
    "### Model Training"
   ]
  },
  {
   "cell_type": "code",
   "execution_count": 2,
   "metadata": {
    "collapsed": false
   },
   "outputs": [],
   "source": [
    "df = pd.read_csv('C:\\\\Users\\\\gerar\\\\Dropbox\\\\Web Economics - Shared\\\\data\\\\train_ohe.csv')"
   ]
  },
  {
   "cell_type": "code",
   "execution_count": 11,
   "metadata": {
    "collapsed": false
   },
   "outputs": [
    {
     "data": {
      "text/plain": [
       "['train_X.pkl']"
      ]
     },
     "execution_count": 11,
     "metadata": {},
     "output_type": "execute_result"
    }
   ],
   "source": [
    "joblib.dump(train_X, 'train_X.pkl')"
   ]
  },
  {
   "cell_type": "code",
   "execution_count": 2,
   "metadata": {
    "collapsed": false
   },
   "outputs": [
    {
     "ename": "MemoryError",
     "evalue": "",
     "output_type": "error",
     "traceback": [
      "\u001b[0;31m---------------------------------------------------------------------------\u001b[0m",
      "\u001b[0;31mMemoryError\u001b[0m                               Traceback (most recent call last)",
      "\u001b[0;32m<ipython-input-2-7af74bbe5822>\u001b[0m in \u001b[0;36m<module>\u001b[0;34m()\u001b[0m\n\u001b[1;32m      4\u001b[0m \u001b[1;31m#train_X = joblib.load('train_X.pkl')\u001b[0m\u001b[1;33m\u001b[0m\u001b[1;33m\u001b[0m\u001b[0m\n\u001b[1;32m      5\u001b[0m \u001b[1;31m#rf = joblib.load('random_forest.pkl')\u001b[0m\u001b[1;33m\u001b[0m\u001b[1;33m\u001b[0m\u001b[0m\n\u001b[0;32m----> 6\u001b[0;31m \u001b[0mdf_new\u001b[0m\u001b[1;33m[\u001b[0m\u001b[1;34m'rf_pred'\u001b[0m\u001b[1;33m]\u001b[0m \u001b[1;33m=\u001b[0m \u001b[0mrf\u001b[0m\u001b[1;33m.\u001b[0m\u001b[0mpredict\u001b[0m\u001b[1;33m(\u001b[0m\u001b[0mtrain_X\u001b[0m\u001b[1;33m)\u001b[0m\u001b[1;33m\u001b[0m\u001b[0m\n\u001b[0m\u001b[1;32m      7\u001b[0m \u001b[0mdf_new\u001b[0m\u001b[1;33m[\u001b[0m\u001b[1;34m'rf_prob'\u001b[0m\u001b[1;33m]\u001b[0m \u001b[1;33m=\u001b[0m \u001b[0mrf\u001b[0m\u001b[1;33m.\u001b[0m\u001b[0mpredict_proba\u001b[0m\u001b[1;33m(\u001b[0m\u001b[0mtrain_X\u001b[0m\u001b[1;33m)\u001b[0m\u001b[1;33m[\u001b[0m\u001b[1;33m:\u001b[0m\u001b[1;33m,\u001b[0m\u001b[1;36m1\u001b[0m\u001b[1;33m]\u001b[0m\u001b[1;33m\u001b[0m\u001b[0m\n\u001b[1;32m      8\u001b[0m \u001b[1;33m\u001b[0m\u001b[0m\n",
      "\u001b[0;32mC:\\Users\\gerar\\Anaconda3\\lib\\site-packages\\sklearn\\ensemble\\forest.py\u001b[0m in \u001b[0;36mpredict\u001b[0;34m(self, X)\u001b[0m\n\u001b[1;32m    532\u001b[0m             \u001b[0mThe\u001b[0m \u001b[0mpredicted\u001b[0m \u001b[0mclasses\u001b[0m\u001b[1;33m.\u001b[0m\u001b[1;33m\u001b[0m\u001b[0m\n\u001b[1;32m    533\u001b[0m         \"\"\"\n\u001b[0;32m--> 534\u001b[0;31m         \u001b[0mproba\u001b[0m \u001b[1;33m=\u001b[0m \u001b[0mself\u001b[0m\u001b[1;33m.\u001b[0m\u001b[0mpredict_proba\u001b[0m\u001b[1;33m(\u001b[0m\u001b[0mX\u001b[0m\u001b[1;33m)\u001b[0m\u001b[1;33m\u001b[0m\u001b[0m\n\u001b[0m\u001b[1;32m    535\u001b[0m \u001b[1;33m\u001b[0m\u001b[0m\n\u001b[1;32m    536\u001b[0m         \u001b[1;32mif\u001b[0m \u001b[0mself\u001b[0m\u001b[1;33m.\u001b[0m\u001b[0mn_outputs_\u001b[0m \u001b[1;33m==\u001b[0m \u001b[1;36m1\u001b[0m\u001b[1;33m:\u001b[0m\u001b[1;33m\u001b[0m\u001b[0m\n",
      "\u001b[0;32mC:\\Users\\gerar\\Anaconda3\\lib\\site-packages\\sklearn\\ensemble\\forest.py\u001b[0m in \u001b[0;36mpredict_proba\u001b[0;34m(self, X)\u001b[0m\n\u001b[1;32m    581\u001b[0m             delayed(parallel_helper)(e, 'predict_proba', X,\n\u001b[1;32m    582\u001b[0m                                       check_input=False)\n\u001b[0;32m--> 583\u001b[0;31m             for e in self.estimators_)\n\u001b[0m\u001b[1;32m    584\u001b[0m \u001b[1;33m\u001b[0m\u001b[0m\n\u001b[1;32m    585\u001b[0m         \u001b[1;31m# Reduce\u001b[0m\u001b[1;33m\u001b[0m\u001b[1;33m\u001b[0m\u001b[0m\n",
      "\u001b[0;32mC:\\Users\\gerar\\Anaconda3\\lib\\site-packages\\sklearn\\externals\\joblib\\parallel.py\u001b[0m in \u001b[0;36m__call__\u001b[0;34m(self, iterable)\u001b[0m\n\u001b[1;32m    756\u001b[0m             \u001b[1;31m# was dispatched. In particular this covers the edge\u001b[0m\u001b[1;33m\u001b[0m\u001b[1;33m\u001b[0m\u001b[0m\n\u001b[1;32m    757\u001b[0m             \u001b[1;31m# case of Parallel used with an exhausted iterator.\u001b[0m\u001b[1;33m\u001b[0m\u001b[1;33m\u001b[0m\u001b[0m\n\u001b[0;32m--> 758\u001b[0;31m             \u001b[1;32mwhile\u001b[0m \u001b[0mself\u001b[0m\u001b[1;33m.\u001b[0m\u001b[0mdispatch_one_batch\u001b[0m\u001b[1;33m(\u001b[0m\u001b[0miterator\u001b[0m\u001b[1;33m)\u001b[0m\u001b[1;33m:\u001b[0m\u001b[1;33m\u001b[0m\u001b[0m\n\u001b[0m\u001b[1;32m    759\u001b[0m                 \u001b[0mself\u001b[0m\u001b[1;33m.\u001b[0m\u001b[0m_iterating\u001b[0m \u001b[1;33m=\u001b[0m \u001b[1;32mTrue\u001b[0m\u001b[1;33m\u001b[0m\u001b[0m\n\u001b[1;32m    760\u001b[0m             \u001b[1;32melse\u001b[0m\u001b[1;33m:\u001b[0m\u001b[1;33m\u001b[0m\u001b[0m\n",
      "\u001b[0;32mC:\\Users\\gerar\\Anaconda3\\lib\\site-packages\\sklearn\\externals\\joblib\\parallel.py\u001b[0m in \u001b[0;36mdispatch_one_batch\u001b[0;34m(self, iterator)\u001b[0m\n\u001b[1;32m    606\u001b[0m                 \u001b[1;32mreturn\u001b[0m \u001b[1;32mFalse\u001b[0m\u001b[1;33m\u001b[0m\u001b[0m\n\u001b[1;32m    607\u001b[0m             \u001b[1;32melse\u001b[0m\u001b[1;33m:\u001b[0m\u001b[1;33m\u001b[0m\u001b[0m\n\u001b[0;32m--> 608\u001b[0;31m                 \u001b[0mself\u001b[0m\u001b[1;33m.\u001b[0m\u001b[0m_dispatch\u001b[0m\u001b[1;33m(\u001b[0m\u001b[0mtasks\u001b[0m\u001b[1;33m)\u001b[0m\u001b[1;33m\u001b[0m\u001b[0m\n\u001b[0m\u001b[1;32m    609\u001b[0m                 \u001b[1;32mreturn\u001b[0m \u001b[1;32mTrue\u001b[0m\u001b[1;33m\u001b[0m\u001b[0m\n\u001b[1;32m    610\u001b[0m \u001b[1;33m\u001b[0m\u001b[0m\n",
      "\u001b[0;32mC:\\Users\\gerar\\Anaconda3\\lib\\site-packages\\sklearn\\externals\\joblib\\parallel.py\u001b[0m in \u001b[0;36m_dispatch\u001b[0;34m(self, batch)\u001b[0m\n\u001b[1;32m    569\u001b[0m         \u001b[0mdispatch_timestamp\u001b[0m \u001b[1;33m=\u001b[0m \u001b[0mtime\u001b[0m\u001b[1;33m.\u001b[0m\u001b[0mtime\u001b[0m\u001b[1;33m(\u001b[0m\u001b[1;33m)\u001b[0m\u001b[1;33m\u001b[0m\u001b[0m\n\u001b[1;32m    570\u001b[0m         \u001b[0mcb\u001b[0m \u001b[1;33m=\u001b[0m \u001b[0mBatchCompletionCallBack\u001b[0m\u001b[1;33m(\u001b[0m\u001b[0mdispatch_timestamp\u001b[0m\u001b[1;33m,\u001b[0m \u001b[0mlen\u001b[0m\u001b[1;33m(\u001b[0m\u001b[0mbatch\u001b[0m\u001b[1;33m)\u001b[0m\u001b[1;33m,\u001b[0m \u001b[0mself\u001b[0m\u001b[1;33m)\u001b[0m\u001b[1;33m\u001b[0m\u001b[0m\n\u001b[0;32m--> 571\u001b[0;31m         \u001b[0mjob\u001b[0m \u001b[1;33m=\u001b[0m \u001b[0mself\u001b[0m\u001b[1;33m.\u001b[0m\u001b[0m_backend\u001b[0m\u001b[1;33m.\u001b[0m\u001b[0mapply_async\u001b[0m\u001b[1;33m(\u001b[0m\u001b[0mbatch\u001b[0m\u001b[1;33m,\u001b[0m \u001b[0mcallback\u001b[0m\u001b[1;33m=\u001b[0m\u001b[0mcb\u001b[0m\u001b[1;33m)\u001b[0m\u001b[1;33m\u001b[0m\u001b[0m\n\u001b[0m\u001b[1;32m    572\u001b[0m         \u001b[0mself\u001b[0m\u001b[1;33m.\u001b[0m\u001b[0m_jobs\u001b[0m\u001b[1;33m.\u001b[0m\u001b[0mappend\u001b[0m\u001b[1;33m(\u001b[0m\u001b[0mjob\u001b[0m\u001b[1;33m)\u001b[0m\u001b[1;33m\u001b[0m\u001b[0m\n\u001b[1;32m    573\u001b[0m \u001b[1;33m\u001b[0m\u001b[0m\n",
      "\u001b[0;32mC:\\Users\\gerar\\Anaconda3\\lib\\site-packages\\sklearn\\externals\\joblib\\_parallel_backends.py\u001b[0m in \u001b[0;36mapply_async\u001b[0;34m(self, func, callback)\u001b[0m\n\u001b[1;32m    107\u001b[0m     \u001b[1;32mdef\u001b[0m \u001b[0mapply_async\u001b[0m\u001b[1;33m(\u001b[0m\u001b[0mself\u001b[0m\u001b[1;33m,\u001b[0m \u001b[0mfunc\u001b[0m\u001b[1;33m,\u001b[0m \u001b[0mcallback\u001b[0m\u001b[1;33m=\u001b[0m\u001b[1;32mNone\u001b[0m\u001b[1;33m)\u001b[0m\u001b[1;33m:\u001b[0m\u001b[1;33m\u001b[0m\u001b[0m\n\u001b[1;32m    108\u001b[0m         \u001b[1;34m\"\"\"Schedule a func to be run\"\"\"\u001b[0m\u001b[1;33m\u001b[0m\u001b[0m\n\u001b[0;32m--> 109\u001b[0;31m         \u001b[0mresult\u001b[0m \u001b[1;33m=\u001b[0m \u001b[0mImmediateResult\u001b[0m\u001b[1;33m(\u001b[0m\u001b[0mfunc\u001b[0m\u001b[1;33m)\u001b[0m\u001b[1;33m\u001b[0m\u001b[0m\n\u001b[0m\u001b[1;32m    110\u001b[0m         \u001b[1;32mif\u001b[0m \u001b[0mcallback\u001b[0m\u001b[1;33m:\u001b[0m\u001b[1;33m\u001b[0m\u001b[0m\n\u001b[1;32m    111\u001b[0m             \u001b[0mcallback\u001b[0m\u001b[1;33m(\u001b[0m\u001b[0mresult\u001b[0m\u001b[1;33m)\u001b[0m\u001b[1;33m\u001b[0m\u001b[0m\n",
      "\u001b[0;32mC:\\Users\\gerar\\Anaconda3\\lib\\site-packages\\sklearn\\externals\\joblib\\_parallel_backends.py\u001b[0m in \u001b[0;36m__init__\u001b[0;34m(self, batch)\u001b[0m\n\u001b[1;32m    324\u001b[0m         \u001b[1;31m# Don't delay the application, to avoid keeping the input\u001b[0m\u001b[1;33m\u001b[0m\u001b[1;33m\u001b[0m\u001b[0m\n\u001b[1;32m    325\u001b[0m         \u001b[1;31m# arguments in memory\u001b[0m\u001b[1;33m\u001b[0m\u001b[1;33m\u001b[0m\u001b[0m\n\u001b[0;32m--> 326\u001b[0;31m         \u001b[0mself\u001b[0m\u001b[1;33m.\u001b[0m\u001b[0mresults\u001b[0m \u001b[1;33m=\u001b[0m \u001b[0mbatch\u001b[0m\u001b[1;33m(\u001b[0m\u001b[1;33m)\u001b[0m\u001b[1;33m\u001b[0m\u001b[0m\n\u001b[0m\u001b[1;32m    327\u001b[0m \u001b[1;33m\u001b[0m\u001b[0m\n\u001b[1;32m    328\u001b[0m     \u001b[1;32mdef\u001b[0m \u001b[0mget\u001b[0m\u001b[1;33m(\u001b[0m\u001b[0mself\u001b[0m\u001b[1;33m)\u001b[0m\u001b[1;33m:\u001b[0m\u001b[1;33m\u001b[0m\u001b[0m\n",
      "\u001b[0;32mC:\\Users\\gerar\\Anaconda3\\lib\\site-packages\\sklearn\\externals\\joblib\\parallel.py\u001b[0m in \u001b[0;36m__call__\u001b[0;34m(self)\u001b[0m\n\u001b[1;32m    129\u001b[0m \u001b[1;33m\u001b[0m\u001b[0m\n\u001b[1;32m    130\u001b[0m     \u001b[1;32mdef\u001b[0m \u001b[0m__call__\u001b[0m\u001b[1;33m(\u001b[0m\u001b[0mself\u001b[0m\u001b[1;33m)\u001b[0m\u001b[1;33m:\u001b[0m\u001b[1;33m\u001b[0m\u001b[0m\n\u001b[0;32m--> 131\u001b[0;31m         \u001b[1;32mreturn\u001b[0m \u001b[1;33m[\u001b[0m\u001b[0mfunc\u001b[0m\u001b[1;33m(\u001b[0m\u001b[1;33m*\u001b[0m\u001b[0margs\u001b[0m\u001b[1;33m,\u001b[0m \u001b[1;33m**\u001b[0m\u001b[0mkwargs\u001b[0m\u001b[1;33m)\u001b[0m \u001b[1;32mfor\u001b[0m \u001b[0mfunc\u001b[0m\u001b[1;33m,\u001b[0m \u001b[0margs\u001b[0m\u001b[1;33m,\u001b[0m \u001b[0mkwargs\u001b[0m \u001b[1;32min\u001b[0m \u001b[0mself\u001b[0m\u001b[1;33m.\u001b[0m\u001b[0mitems\u001b[0m\u001b[1;33m]\u001b[0m\u001b[1;33m\u001b[0m\u001b[0m\n\u001b[0m\u001b[1;32m    132\u001b[0m \u001b[1;33m\u001b[0m\u001b[0m\n\u001b[1;32m    133\u001b[0m     \u001b[1;32mdef\u001b[0m \u001b[0m__len__\u001b[0m\u001b[1;33m(\u001b[0m\u001b[0mself\u001b[0m\u001b[1;33m)\u001b[0m\u001b[1;33m:\u001b[0m\u001b[1;33m\u001b[0m\u001b[0m\n",
      "\u001b[0;32mC:\\Users\\gerar\\Anaconda3\\lib\\site-packages\\sklearn\\externals\\joblib\\parallel.py\u001b[0m in \u001b[0;36m<listcomp>\u001b[0;34m(.0)\u001b[0m\n\u001b[1;32m    129\u001b[0m \u001b[1;33m\u001b[0m\u001b[0m\n\u001b[1;32m    130\u001b[0m     \u001b[1;32mdef\u001b[0m \u001b[0m__call__\u001b[0m\u001b[1;33m(\u001b[0m\u001b[0mself\u001b[0m\u001b[1;33m)\u001b[0m\u001b[1;33m:\u001b[0m\u001b[1;33m\u001b[0m\u001b[0m\n\u001b[0;32m--> 131\u001b[0;31m         \u001b[1;32mreturn\u001b[0m \u001b[1;33m[\u001b[0m\u001b[0mfunc\u001b[0m\u001b[1;33m(\u001b[0m\u001b[1;33m*\u001b[0m\u001b[0margs\u001b[0m\u001b[1;33m,\u001b[0m \u001b[1;33m**\u001b[0m\u001b[0mkwargs\u001b[0m\u001b[1;33m)\u001b[0m \u001b[1;32mfor\u001b[0m \u001b[0mfunc\u001b[0m\u001b[1;33m,\u001b[0m \u001b[0margs\u001b[0m\u001b[1;33m,\u001b[0m \u001b[0mkwargs\u001b[0m \u001b[1;32min\u001b[0m \u001b[0mself\u001b[0m\u001b[1;33m.\u001b[0m\u001b[0mitems\u001b[0m\u001b[1;33m]\u001b[0m\u001b[1;33m\u001b[0m\u001b[0m\n\u001b[0m\u001b[1;32m    132\u001b[0m \u001b[1;33m\u001b[0m\u001b[0m\n\u001b[1;32m    133\u001b[0m     \u001b[1;32mdef\u001b[0m \u001b[0m__len__\u001b[0m\u001b[1;33m(\u001b[0m\u001b[0mself\u001b[0m\u001b[1;33m)\u001b[0m\u001b[1;33m:\u001b[0m\u001b[1;33m\u001b[0m\u001b[0m\n",
      "\u001b[0;32mC:\\Users\\gerar\\Anaconda3\\lib\\site-packages\\sklearn\\utils\\fixes.py\u001b[0m in \u001b[0;36mparallel_helper\u001b[0;34m(obj, methodname, *args, **kwargs)\u001b[0m\n\u001b[1;32m    313\u001b[0m \u001b[1;32mdef\u001b[0m \u001b[0mparallel_helper\u001b[0m\u001b[1;33m(\u001b[0m\u001b[0mobj\u001b[0m\u001b[1;33m,\u001b[0m \u001b[0mmethodname\u001b[0m\u001b[1;33m,\u001b[0m \u001b[1;33m*\u001b[0m\u001b[0margs\u001b[0m\u001b[1;33m,\u001b[0m \u001b[1;33m**\u001b[0m\u001b[0mkwargs\u001b[0m\u001b[1;33m)\u001b[0m\u001b[1;33m:\u001b[0m\u001b[1;33m\u001b[0m\u001b[0m\n\u001b[1;32m    314\u001b[0m     \u001b[1;34m\"\"\"Helper to workaround Python 2 limitations of pickling instance methods\"\"\"\u001b[0m\u001b[1;33m\u001b[0m\u001b[0m\n\u001b[0;32m--> 315\u001b[0;31m     \u001b[1;32mreturn\u001b[0m \u001b[0mgetattr\u001b[0m\u001b[1;33m(\u001b[0m\u001b[0mobj\u001b[0m\u001b[1;33m,\u001b[0m \u001b[0mmethodname\u001b[0m\u001b[1;33m)\u001b[0m\u001b[1;33m(\u001b[0m\u001b[1;33m*\u001b[0m\u001b[0margs\u001b[0m\u001b[1;33m,\u001b[0m \u001b[1;33m**\u001b[0m\u001b[0mkwargs\u001b[0m\u001b[1;33m)\u001b[0m\u001b[1;33m\u001b[0m\u001b[0m\n\u001b[0m\u001b[1;32m    316\u001b[0m \u001b[1;33m\u001b[0m\u001b[0m\n\u001b[1;32m    317\u001b[0m \u001b[1;33m\u001b[0m\u001b[0m\n",
      "\u001b[0;32mC:\\Users\\gerar\\Anaconda3\\lib\\site-packages\\sklearn\\tree\\tree.py\u001b[0m in \u001b[0;36mpredict_proba\u001b[0;34m(self, X, check_input)\u001b[0m\n\u001b[1;32m    766\u001b[0m         \"\"\"\n\u001b[1;32m    767\u001b[0m         \u001b[0mX\u001b[0m \u001b[1;33m=\u001b[0m \u001b[0mself\u001b[0m\u001b[1;33m.\u001b[0m\u001b[0m_validate_X_predict\u001b[0m\u001b[1;33m(\u001b[0m\u001b[0mX\u001b[0m\u001b[1;33m,\u001b[0m \u001b[0mcheck_input\u001b[0m\u001b[1;33m)\u001b[0m\u001b[1;33m\u001b[0m\u001b[0m\n\u001b[0;32m--> 768\u001b[0;31m         \u001b[0mproba\u001b[0m \u001b[1;33m=\u001b[0m \u001b[0mself\u001b[0m\u001b[1;33m.\u001b[0m\u001b[0mtree_\u001b[0m\u001b[1;33m.\u001b[0m\u001b[0mpredict\u001b[0m\u001b[1;33m(\u001b[0m\u001b[0mX\u001b[0m\u001b[1;33m)\u001b[0m\u001b[1;33m\u001b[0m\u001b[0m\n\u001b[0m\u001b[1;32m    769\u001b[0m \u001b[1;33m\u001b[0m\u001b[0m\n\u001b[1;32m    770\u001b[0m         \u001b[1;32mif\u001b[0m \u001b[0mself\u001b[0m\u001b[1;33m.\u001b[0m\u001b[0mn_outputs_\u001b[0m \u001b[1;33m==\u001b[0m \u001b[1;36m1\u001b[0m\u001b[1;33m:\u001b[0m\u001b[1;33m\u001b[0m\u001b[0m\n",
      "\u001b[0;32msklearn\\tree\\_tree.pyx\u001b[0m in \u001b[0;36msklearn.tree._tree.Tree.predict (sklearn\\tree\\_tree.c:9407)\u001b[0;34m()\u001b[0m\n",
      "\u001b[0;32msklearn\\tree\\_tree.pyx\u001b[0m in \u001b[0;36msklearn.tree._tree.Tree.predict (sklearn\\tree\\_tree.c:9254)\u001b[0;34m()\u001b[0m\n",
      "\u001b[0;31mMemoryError\u001b[0m: "
     ]
    }
   ],
   "source": [
    "import pandas as pd\n",
    "from sklearn.externals import joblib\n",
    "df_new = pd.DataFrame()\n",
    "#train_X = joblib.load('train_X.pkl')\n",
    "#rf = joblib.load('random_forest.pkl')\n",
    "df_new['rf_pred'] = rf.predict(train_X)\n",
    "df_new['rf_prob'] = rf.predict_proba(train_X)[:,1]\n",
    "\n",
    "lr = joblib.load('logistic_regression.pkl')\n",
    "df_new['lr_pred'] = lr.predict(train_X)\n",
    "df_new['lr_prob'] = lr.predict_proba(train_X)[:,1]\n",
    "\n",
    "df_new[['bidid', 'rf_pred', 'rf_prob', 'lr_pred', 'lr_prob']].to_csv('rf_lr_train_predictions.csv', encoding='utf-8')"
   ]
  },
  {
   "cell_type": "code",
   "execution_count": 16,
   "metadata": {
    "collapsed": true
   },
   "outputs": [],
   "source": [
    "df2 = pd.read_csv('C:\\\\Users\\\\gerar\\\\Dropbox\\\\Web Economics - Shared\\\\data\\\\validation_ohe.csv')"
   ]
  },
  {
   "cell_type": "code",
   "execution_count": 17,
   "metadata": {
    "collapsed": false
   },
   "outputs": [],
   "source": [
    "train_ind = list(df.loc[df.click==1].index) + list(df.loc[df.click==0].index)[:len(df.loc[df.click==1])]\n",
    "np.random.shuffle(train_ind)"
   ]
  },
  {
   "cell_type": "code",
   "execution_count": 18,
   "metadata": {
    "collapsed": true
   },
   "outputs": [],
   "source": [
    "df = df.loc[train_ind]"
   ]
  },
  {
   "cell_type": "code",
   "execution_count": 14,
   "metadata": {
    "collapsed": true
   },
   "outputs": [],
   "source": [
    "train_fit = train_X[train_ind]\n",
    "train_labels = train_Y[train_ind]"
   ]
  },
  {
   "cell_type": "code",
   "execution_count": 79,
   "metadata": {
    "collapsed": false
   },
   "outputs": [
    {
     "data": {
      "text/plain": [
       "RandomForestClassifier(bootstrap=True, class_weight=None, criterion='gini',\n",
       "            max_depth=None, max_features='auto', max_leaf_nodes=None,\n",
       "            min_impurity_split=1e-07, min_samples_leaf=1,\n",
       "            min_samples_split=2, min_weight_fraction_leaf=0.0,\n",
       "            n_estimators=500, n_jobs=1, oob_score=False, random_state=1994,\n",
       "            verbose=0, warm_start=False)"
      ]
     },
     "execution_count": 79,
     "metadata": {},
     "output_type": "execute_result"
    }
   ],
   "source": [
    "rf = RandomForestClassifier(n_estimators=500, random_state=1994)\n",
    "rf.fit(train_X, train_Y)"
   ]
  },
  {
   "cell_type": "code",
   "execution_count": 53,
   "metadata": {
    "collapsed": false
   },
   "outputs": [
    {
     "data": {
      "text/plain": [
       "LogisticRegression(C=10, class_weight=None, dual=False, fit_intercept=True,\n",
       "          intercept_scaling=1, max_iter=100, multi_class='ovr', n_jobs=1,\n",
       "          penalty='l2', random_state=1994, solver='liblinear', tol=0.0001,\n",
       "          verbose=0, warm_start=False)"
      ]
     },
     "execution_count": 53,
     "metadata": {},
     "output_type": "execute_result"
    }
   ],
   "source": [
    "lr = LogisticRegression(C=10, random_state=1994)\n",
    "lr.fit(train_X, train_Y)"
   ]
  },
  {
   "cell_type": "code",
   "execution_count": 80,
   "metadata": {
    "collapsed": false
   },
   "outputs": [
    {
     "data": {
      "text/plain": [
       "0.84131723542030168"
      ]
     },
     "execution_count": 80,
     "metadata": {},
     "output_type": "execute_result"
    }
   ],
   "source": [
    "rf.score(val_X, val_Y)"
   ]
  },
  {
   "cell_type": "code",
   "execution_count": 54,
   "metadata": {
    "collapsed": false
   },
   "outputs": [
    {
     "data": {
      "text/plain": [
       "0.85279016777370398"
      ]
     },
     "execution_count": 54,
     "metadata": {},
     "output_type": "execute_result"
    }
   ],
   "source": [
    "lr.score(val_X, val_Y)"
   ]
  },
  {
   "cell_type": "code",
   "execution_count": 74,
   "metadata": {
    "collapsed": false
   },
   "outputs": [
    {
     "data": {
      "text/plain": [
       "GridSearchCV(cv=None, error_score='raise',\n",
       "       estimator=LogisticRegression(C=1.0, class_weight=None, dual=False, fit_intercept=True,\n",
       "          intercept_scaling=1, max_iter=100, multi_class='ovr', n_jobs=1,\n",
       "          penalty='l2', random_state=1994, solver='liblinear', tol=0.0001,\n",
       "          verbose=0, warm_start=False),\n",
       "       fit_params={}, iid=True, n_jobs=1,\n",
       "       param_grid={'C': [5, 10, 15, 20, 25]}, pre_dispatch='2*n_jobs',\n",
       "       refit=True, return_train_score=True, scoring=None, verbose=0)"
      ]
     },
     "execution_count": 74,
     "metadata": {},
     "output_type": "execute_result"
    }
   ],
   "source": [
    "lr = LogisticRegression(random_state=1994)\n",
    "param_grid = {'C': [0.001,0.01,0.1,1,10]}\n",
    "clf = GridSearchCV(lr, param_grid)\n",
    "clf.fit(train_X, train_Y)"
   ]
  },
  {
   "cell_type": "code",
   "execution_count": 75,
   "metadata": {
    "collapsed": false
   },
   "outputs": [
    {
     "data": {
      "text/plain": [
       "LogisticRegression(C=10, class_weight=None, dual=False, fit_intercept=True,\n",
       "          intercept_scaling=1, max_iter=100, multi_class='ovr', n_jobs=1,\n",
       "          penalty='l2', random_state=1994, solver='liblinear', tol=0.0001,\n",
       "          verbose=0, warm_start=False)"
      ]
     },
     "execution_count": 75,
     "metadata": {},
     "output_type": "execute_result"
    }
   ],
   "source": [
    "clf.best_estimator_"
   ]
  },
  {
   "cell_type": "code",
   "execution_count": 55,
   "metadata": {
    "collapsed": false
   },
   "outputs": [
    {
     "data": {
      "text/plain": [
       "array([[255470,  44053],\n",
       "       [    73,    153]])"
      ]
     },
     "execution_count": 55,
     "metadata": {},
     "output_type": "execute_result"
    }
   ],
   "source": [
    "from sklearn.metrics import confusion_matrix\n",
    "pred = lr.predict(val_X)\n",
    "confusion_matrix(val_Y, pred)"
   ]
  },
  {
   "cell_type": "code",
   "execution_count": 81,
   "metadata": {
    "collapsed": false
   },
   "outputs": [
    {
     "data": {
      "text/plain": [
       "array([[252015,  47508],\n",
       "       [    57,    169]])"
      ]
     },
     "execution_count": 81,
     "metadata": {},
     "output_type": "execute_result"
    }
   ],
   "source": [
    "from sklearn.metrics import confusion_matrix\n",
    "pred = rf.predict(val_X)\n",
    "confusion_matrix(val_Y, pred)"
   ]
  },
  {
   "cell_type": "code",
   "execution_count": 82,
   "metadata": {
    "collapsed": false
   },
   "outputs": [
    {
     "data": {
      "text/plain": [
       "['logistic_regression.pkl']"
      ]
     },
     "execution_count": 82,
     "metadata": {},
     "output_type": "execute_result"
    }
   ],
   "source": [
    "from sklearn.externals import joblib\n",
    "joblib.dump(rf, 'random_forest.pkl')\n",
    "joblib.dump(lr, 'logistic_regression.pkl')"
   ]
  },
  {
   "cell_type": "code",
   "execution_count": 83,
   "metadata": {
    "collapsed": false
   },
   "outputs": [
    {
     "name": "stdout",
     "output_type": "stream",
     "text": [
      "Random Forest Model:\n",
      "-----------------------\n",
      "Percentage of outliers predicted as outliers: 74.78%\n",
      "Percentage of inliers predicted as outliers: 15.86%\n"
     ]
    }
   ],
   "source": [
    "num_outliers = len(np.where(val_Y==1)[0])\n",
    "num_inliers = len(np.where(val_Y==0)[0])\n",
    "pred = rf.predict(val_X)\n",
    "outliers = 0\n",
    "inliers = 0\n",
    "for p, t in zip(pred, val_Y):\n",
    "    if t==1:\n",
    "        if p == t:\n",
    "            outliers += 1\n",
    "    else:\n",
    "        if p == 1:\n",
    "            inliers += 1\n",
    "print('Random Forest Model:')\n",
    "print('-----------------------')\n",
    "print('Percentage of outliers predicted as outliers: {:.2f}%'.format(outliers*100/num_outliers))\n",
    "print('Percentage of inliers predicted as outliers: {:.2f}%'.format(inliers*100/num_inliers))"
   ]
  },
  {
   "cell_type": "code",
   "execution_count": 56,
   "metadata": {
    "collapsed": false
   },
   "outputs": [
    {
     "name": "stdout",
     "output_type": "stream",
     "text": [
      "Logistic Regression Model:\n",
      "-----------------------\n",
      "Percentage of outliers predicted as outliers: 67.70%\n",
      "Percentage of inliers predicted as outliers: 14.71%\n"
     ]
    }
   ],
   "source": [
    "num_outliers = len(np.where(val_Y==1)[0])\n",
    "num_inliers = len(np.where(val_Y==0)[0])\n",
    "pred = lr.predict(val_X)\n",
    "outliers = 0\n",
    "inliers = 0\n",
    "for p, t in zip(pred, val_Y):\n",
    "    if t==1:\n",
    "        if p == t:\n",
    "            outliers += 1\n",
    "    else:\n",
    "        if p == 1:\n",
    "            inliers += 1\n",
    "print('Logistic Regression Model:')\n",
    "print('-----------------------')\n",
    "print('Percentage of outliers predicted as outliers: {:.2f}%'.format(outliers*100/num_outliers))\n",
    "print('Percentage of inliers predicted as outliers: {:.2f}%'.format(inliers*100/num_inliers))"
   ]
  },
  {
   "cell_type": "code",
   "execution_count": 118,
   "metadata": {
    "collapsed": false
   },
   "outputs": [],
   "source": [
    "df['clickpred'] = lr.predict_proba(train_X)[:,1]"
   ]
  },
  {
   "cell_type": "code",
   "execution_count": 58,
   "metadata": {
    "collapsed": true
   },
   "outputs": [],
   "source": [
    "df2['clickprob'] = lr.predict_proba(val_X)[:,1]\n",
    "df2['clickpred'] = lr.predict(val_X)"
   ]
  },
  {
   "cell_type": "code",
   "execution_count": 84,
   "metadata": {
    "collapsed": true
   },
   "outputs": [],
   "source": [
    "df2['clickprob'] = rf.predict_proba(val_X)[:,1]\n",
    "df2['clickpred'] = pred\n",
    "df2[['bidid', 'clickprob', 'clickpred']].to_csv('rf_validation_results.csv', encoding='utf-8')"
   ]
  },
  {
   "cell_type": "code",
   "execution_count": 60,
   "metadata": {
    "collapsed": false
   },
   "outputs": [],
   "source": [
    "df2[['bidid','clickprob','clickpred']].to_csv('lr_validation_results.csv', encoding='utf-8')"
   ]
  },
  {
   "cell_type": "code",
   "execution_count": 61,
   "metadata": {
    "collapsed": true
   },
   "outputs": [],
   "source": [
    "df3 = pd.read_csv('C:\\\\Users\\\\gerar\\\\Dropbox\\\\Web Economics - Shared\\\\data\\\\test_ohe.csv')"
   ]
  },
  {
   "cell_type": "code",
   "execution_count": 62,
   "metadata": {
    "collapsed": true
   },
   "outputs": [],
   "source": [
    "df3['slotdim'] = df3.apply(get_slotdim, axis=1)"
   ]
  },
  {
   "cell_type": "code",
   "execution_count": 64,
   "metadata": {
    "collapsed": false
   },
   "outputs": [
    {
     "name": "stderr",
     "output_type": "stream",
     "text": [
      "C:\\Users\\gerar\\Anaconda3\\lib\\site-packages\\ipykernel\\__main__.py:5: FutureWarning: elementwise comparison failed; returning scalar instead, but in the future will perform elementwise comparison\n"
     ]
    }
   ],
   "source": [
    "categorical = ['useragent', 'slotid', 'slotvisibility', 'creative', \n",
    "               'keypage', 'advertiser', 'slotdim', 'os', 'browser', 'url', 'domain', 'IP']\n",
    "\n",
    "for c in categorical:\n",
    "    df3[c] = df3[c].map(lambda s: '<unknown>' if s not in le_dict[c].classes_ else s)\n",
    "\n",
    "df3[categorical] = df3[categorical].apply(lambda x: le_dict[x.name].transform(x))"
   ]
  },
  {
   "cell_type": "code",
   "execution_count": 70,
   "metadata": {
    "collapsed": true
   },
   "outputs": [],
   "source": [
    "df3.slotvisibility.fillna(value=df.slotvisibility.value_counts().index[0], inplace=True)\n",
    "df3.slotformat.fillna(value=df.slotformat.value_counts().index[0], inplace=True)\n",
    "df3.keypage.fillna(value=df.keypage.value_counts().index[0], inplace=True)\n",
    "df3.adexchange.fillna(value=df.adexchange.value_counts().index[0], inplace=True)\n",
    "df3.url.fillna(value=df.url.value_counts().index[0], inplace=True)\n",
    "df3.domain.fillna(value=df.domain.value_counts().index[0], inplace=True)"
   ]
  },
  {
   "cell_type": "code",
   "execution_count": 71,
   "metadata": {
    "collapsed": false
   },
   "outputs": [],
   "source": [
    "test_X = df3[features].as_matrix()\n",
    "df3['clickpred'] = lr.predict(test_X)\n",
    "df3['clickprob'] = lr.predict_proba(test_X)[:,1]\n",
    "df3[['bidid','clickprob','clickpred']].to_csv('lr_test_results.csv', encoding='utf-8')"
   ]
  },
  {
   "cell_type": "code",
   "execution_count": 85,
   "metadata": {
    "collapsed": true
   },
   "outputs": [],
   "source": [
    "df3['clickpred'] = rf.predict(test_X)\n",
    "df3['clickprob'] = rf.predict_proba(test_X)[:,1]\n",
    "df3[['bidid','clickprob','clickpred']].to_csv('rf_test_results.csv', encoding='utf-8')"
   ]
  },
  {
   "cell_type": "code",
   "execution_count": null,
   "metadata": {
    "collapsed": true
   },
   "outputs": [],
   "source": []
  }
 ],
 "metadata": {
  "anaconda-cloud": {},
  "kernelspec": {
   "display_name": "Python [default]",
   "language": "python",
   "name": "python3"
  },
  "language_info": {
   "codemirror_mode": {
    "name": "ipython",
    "version": 3
   },
   "file_extension": ".py",
   "mimetype": "text/x-python",
   "name": "python",
   "nbconvert_exporter": "python",
   "pygments_lexer": "ipython3",
   "version": "3.5.2"
  }
 },
 "nbformat": 4,
 "nbformat_minor": 1
}
