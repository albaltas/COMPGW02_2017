{
 "cells": [
  {
   "cell_type": "markdown",
   "metadata": {},
   "source": [
    "# Constant Bidding Strategy\n",
    "\n",
    "Date: 14/04/2017"
   ]
  },
  {
   "cell_type": "markdown",
   "metadata": {},
   "source": [
    "This file implements a constant bidding strategy for real time bidding and outputs validation and test bids."
   ]
  },
  {
   "cell_type": "code",
   "execution_count": 1,
   "metadata": {
    "collapsed": true
   },
   "outputs": [],
   "source": [
    "import pandas as pd\n",
    "import numpy as np"
   ]
  },
  {
   "cell_type": "code",
   "execution_count": 2,
   "metadata": {
    "collapsed": true
   },
   "outputs": [],
   "source": [
    "val = pd.read_csv('data/validation.csv')\n",
    "test = pd.read_csv('data/test.csv')"
   ]
  },
  {
   "cell_type": "code",
   "execution_count": 21,
   "metadata": {
    "collapsed": true
   },
   "outputs": [],
   "source": [
    "# Function for creating columns with strategy bids\n",
    "def apply_strategy(df, params, test=False):\n",
    "    col_name = 'strategy_constant_bid'\n",
    "    col_name_validate = 'strategy_constant_validate'\n",
    "    if col_name not in df.keys():\n",
    "        df[col_name] = int(0)\n",
    "    if col_name_validate not in df.keys():\n",
    "        df[col_name_validate] = int(0)\n",
    "        \n",
    "    df[col_name] = int(params)\n",
    "     \n",
    "    if test is False:\n",
    "        df[col_name_validate] = df[col_name] - df['payprice']\n",
    "    \n",
    "    return df\n",
    "\n",
    "# Function for validating strategy with different parameters\n",
    "def validate_strategy(df, params):\n",
    "    col_name = 'strategy_constant_bid'\n",
    "    col_name_validate = 'strategy_constant_validate'\n",
    "    \n",
    "    df_temp = df[df[col_name_validate] > 0]\n",
    "    \n",
    "    cash_in_bank = glob_cash_in_bank    \n",
    "    strategy_impressions = 0\n",
    "    strategy_clicks = 0\n",
    "    n_rows_in_budget = 0\n",
    "    \n",
    "\n",
    "    for row in df_temp.iterrows():\n",
    "        row = row[1]\n",
    "        if cash_in_bank > 0:\n",
    "            n_rows_in_budget += 1\n",
    "            if row[col_name] > row['payprice']:\n",
    "                strategy_impressions += 1\n",
    "                strategy_clicks += int(row['click'])\n",
    "                cash_in_bank -= row['payprice']\n",
    "        else:\n",
    "            break\n",
    "    if strategy_impressions>0:        \n",
    "        strategy_CTR = strategy_clicks*100/strategy_impressions\n",
    "    else:\n",
    "        strategy_CTR = 0.0\n",
    "    if strategy_clicks>0:\n",
    "        strategy_CPC = (glob_cash_in_bank - cash_in_bank)/strategy_clicks\n",
    "    else:\n",
    "        strategy_CPC = 'Inf'\n",
    "\n",
    "    dfr_index = len(df_results)\n",
    "    df_results.loc[dfr_index] = ['constant', params, strategy_impressions, strategy_clicks, cash_in_bank, strategy_CTR, strategy_CPC]"
   ]
  },
  {
   "cell_type": "code",
   "execution_count": 15,
   "metadata": {
    "collapsed": true
   },
   "outputs": [],
   "source": [
    "glob_cash_in_bank = 6250000 #6250\n",
    "glob_results = dict()\n",
    "columns = ['strategy_name', 'strategy_params', 'strategy_impressions', 'strategy_clicks', 'cash_in_bank', \n",
    "           'strategy_CTR', 'strategy_CPC']\n",
    "#del(df_results)\n",
    "df_results = pd.DataFrame(columns = columns)"
   ]
  },
  {
   "cell_type": "code",
   "execution_count": 17,
   "metadata": {
    "collapsed": false
   },
   "outputs": [
    {
     "name": "stdout",
     "output_type": "stream",
     "text": [
      "C: 0 | Impressions: 0.0 | Clicks: 0.0 | Cash in Bank: 6250000.00$ | CTR: 0.00% | CPC: inf$\n",
      "C: 20 | Impressions: 32248.0 | Clicks: 13.0 | Cash in Bank: 5901643.00$ | CTR: 0.04% | CPC: 26796.69$\n",
      "C: 40 | Impressions: 83032.0 | Clicks: 29.0 | Cash in Bank: 4555103.00$ | CTR: 0.03% | CPC: 58444.72$\n",
      "C: 60 | Impressions: 135288.0 | Clicks: 53.0 | Cash in Bank: 1930755.00$ | CTR: 0.04% | CPC: 81495.19$\n",
      "C: 80 | Impressions: 145516.0 | Clicks: 77.0 | Cash in Bank: -31.00$ | CTR: 0.05% | CPC: 81169.23$\n",
      "C: 100 | Impressions: 126535.0 | Clicks: 81.0 | Cash in Bank: -36.00$ | CTR: 0.06% | CPC: 77160.94$\n",
      "C: 120 | Impressions: 117483.0 | Clicks: 83.0 | Cash in Bank: -25.00$ | CTR: 0.07% | CPC: 75301.51$\n",
      "C: 140 | Impressions: 110625.0 | Clicks: 82.0 | Cash in Bank: -87.00$ | CTR: 0.07% | CPC: 76220.57$\n",
      "C: 160 | Impressions: 103404.0 | Clicks: 85.0 | Cash in Bank: -4.00$ | CTR: 0.08% | CPC: 73529.46$\n",
      "C: 180 | Impressions: 96785.0 | Clicks: 83.0 | Cash in Bank: -46.00$ | CTR: 0.09% | CPC: 75301.76$\n",
      "C: 200 | Impressions: 92489.0 | Clicks: 79.0 | Cash in Bank: -9.00$ | CTR: 0.09% | CPC: 79114.04$\n",
      "C: 220 | Impressions: 87656.0 | Clicks: 73.0 | Cash in Bank: -80.00$ | CTR: 0.08% | CPC: 85617.53$\n",
      "C: 240 | Impressions: 83948.0 | Clicks: 72.0 | Cash in Bank: -19.00$ | CTR: 0.09% | CPC: 86805.82$\n",
      "C: 260 | Impressions: 81309.0 | Clicks: 70.0 | Cash in Bank: -69.00$ | CTR: 0.09% | CPC: 89286.70$\n",
      "C: 280 | Impressions: 79582.0 | Clicks: 70.0 | Cash in Bank: 0.00$ | CTR: 0.09% | CPC: 89285.71$\n"
     ]
    }
   ],
   "source": [
    "# Now we optimize the parameter for constant bidding\n",
    "param_range = np.arange(0, 300, 20)\n",
    "\n",
    "for i, c in enumerate(param_range):\n",
    "    validate_strategy(apply_strategy(val, c),  c)\n",
    "    print(\"C: {} | Impressions: {} | Clicks: {} | Cash in Bank: {:.2f}$ | CTR: {:.2f}% | CPC: {:.2f}$\".format(c, \n",
    "                                                                                                              float(df_results.tail(1).strategy_impressions), \n",
    "                                                                                                              float(df_results.tail(1).strategy_clicks), \n",
    "                                                                                                              float(df_results.tail(1).cash_in_bank), \n",
    "                                                                                                              float(df_results.tail(1).strategy_CTR), \n",
    "                                                                                                              float(df_results.tail(1).strategy_CPC)))"
   ]
  },
  {
   "cell_type": "markdown",
   "metadata": {},
   "source": [
    "From the results above, it seems that the bid price of 180 provides the best results, because of the highest CTR and lowest CPC with still a high number of clicks and impressions. "
   ]
  },
  {
   "cell_type": "code",
   "execution_count": 24,
   "metadata": {
    "collapsed": false
   },
   "outputs": [],
   "source": [
    "new_val = apply_strategy(val, 180, test=True)\n",
    "new_test = apply_strategy(test, 180, test=True)"
   ]
  },
  {
   "cell_type": "code",
   "execution_count": 25,
   "metadata": {
    "collapsed": false
   },
   "outputs": [],
   "source": [
    "new_val[['bidid', 'strategy_constant_bid']].to_csv('constant_validation_bids.csv', encoding='utf-8')\n",
    "new_test[['bidid', 'strategy_constant_bid']].to_csv('constant_testing_bids.csv', encoding='utf-8')"
   ]
  },
  {
   "cell_type": "code",
   "execution_count": null,
   "metadata": {
    "collapsed": true
   },
   "outputs": [],
   "source": []
  }
 ],
 "metadata": {
  "anaconda-cloud": {},
  "kernelspec": {
   "display_name": "Python [conda root]",
   "language": "python",
   "name": "conda-root-py"
  },
  "language_info": {
   "codemirror_mode": {
    "name": "ipython",
    "version": 3
   },
   "file_extension": ".py",
   "mimetype": "text/x-python",
   "name": "python",
   "nbconvert_exporter": "python",
   "pygments_lexer": "ipython3",
   "version": "3.5.2"
  }
 },
 "nbformat": 4,
 "nbformat_minor": 2
}
