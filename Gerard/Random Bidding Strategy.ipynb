{
 "cells": [
  {
   "cell_type": "markdown",
   "metadata": {},
   "source": [
    "# Random Bidding Strategy\n",
    "\n",
    "Date: 14/04/2017"
   ]
  },
  {
   "cell_type": "markdown",
   "metadata": {},
   "source": [
    "This file implements a random bidding strategy for real time bidding and outputs validation and test bids."
   ]
  },
  {
   "cell_type": "code",
   "execution_count": 1,
   "metadata": {
    "collapsed": true
   },
   "outputs": [],
   "source": [
    "import pandas as pd\n",
    "import numpy as np"
   ]
  },
  {
   "cell_type": "code",
   "execution_count": 2,
   "metadata": {
    "collapsed": true
   },
   "outputs": [],
   "source": [
    "val = pd.read_csv('data/validation.csv')\n",
    "test = pd.read_csv('data/test.csv')"
   ]
  },
  {
   "cell_type": "code",
   "execution_count": 3,
   "metadata": {
    "collapsed": true
   },
   "outputs": [],
   "source": [
    "# Function for creating columns with strategy bids\n",
    "def apply_strategy(df, params, test=False):\n",
    "    col_name = 'strategy_random_bid'\n",
    "    col_name_validate = 'strategy_random_validate'\n",
    "    if col_name not in df.keys():\n",
    "        df[col_name] = int(0)\n",
    "    if col_name_validate not in df.keys():\n",
    "        df[col_name_validate] = int(0)\n",
    "        \n",
    "    df[col_name] = np.random.choice(range(0, params), df.shape[0])\n",
    "     \n",
    "    if test is False:\n",
    "        df[col_name_validate] = df[col_name] - df['payprice']\n",
    "    \n",
    "    return df\n",
    "\n",
    "# Function for validating strategy with different parameters\n",
    "def validate_strategy(df, params):\n",
    "    col_name = 'strategy_random_bid'\n",
    "    col_name_validate = 'strategy_random_validate'\n",
    "    \n",
    "    df_temp = df[df[col_name_validate] > 0]\n",
    "    \n",
    "    cash_in_bank = glob_cash_in_bank    \n",
    "    strategy_impressions = 0\n",
    "    strategy_clicks = 0\n",
    "    n_rows_in_budget = 0\n",
    "    \n",
    "\n",
    "    for row in df_temp.iterrows():\n",
    "        row = row[1]\n",
    "        if cash_in_bank > 0:\n",
    "            n_rows_in_budget += 1\n",
    "            if row[col_name] > row['payprice']:\n",
    "                strategy_impressions += 1\n",
    "                strategy_clicks += int(row['click'])\n",
    "                cash_in_bank -= row['payprice']\n",
    "        else:\n",
    "            break\n",
    "    if strategy_impressions>0:        \n",
    "        strategy_CTR = strategy_clicks*100/strategy_impressions\n",
    "    else:\n",
    "        strategy_CTR = 0.0\n",
    "    if strategy_clicks>0:\n",
    "        strategy_CPC = (glob_cash_in_bank - cash_in_bank)/strategy_clicks\n",
    "    else:\n",
    "        strategy_CPC = 'Inf'\n",
    "\n",
    "    dfr_index = len(df_results)\n",
    "    df_results.loc[dfr_index] = ['random', params, strategy_impressions, strategy_clicks, cash_in_bank, strategy_CTR, strategy_CPC]"
   ]
  },
  {
   "cell_type": "code",
   "execution_count": 4,
   "metadata": {
    "collapsed": false
   },
   "outputs": [],
   "source": [
    "glob_cash_in_bank = 6250000 #6250\n",
    "glob_results = dict()\n",
    "columns = ['strategy_name', 'strategy_params', 'strategy_impressions', 'strategy_clicks', 'cash_in_bank', \n",
    "           'strategy_CTR', 'strategy_CPC']\n",
    "#del(df_results)\n",
    "df_results = pd.DataFrame(columns = columns)"
   ]
  },
  {
   "cell_type": "code",
   "execution_count": 9,
   "metadata": {
    "collapsed": false
   },
   "outputs": [
    {
     "name": "stdout",
     "output_type": "stream",
     "text": [
      "C: 40 | Impressions: 38480.0 | Clicks: 14.0 | Cash in Bank: 5654389.00$ | CTR: 0.04% | CPC: 42543.64$\n",
      "C: 60 | Impressions: 60969.0 | Clicks: 15.0 | Cash in Bank: 4921631.00$ | CTR: 0.02% | CPC: 88557.93$\n",
      "C: 80 | Impressions: 84812.0 | Clicks: 30.0 | Cash in Bank: 3814171.00$ | CTR: 0.04% | CPC: 81194.30$\n",
      "C: 100 | Impressions: 110423.0 | Clicks: 51.0 | Cash in Bank: 2297937.00$ | CTR: 0.05% | CPC: 77491.43$\n",
      "C: 120 | Impressions: 129993.0 | Clicks: 57.0 | Cash in Bank: 996980.00$ | CTR: 0.04% | CPC: 92158.25$\n",
      "C: 140 | Impressions: 142564.0 | Clicks: 71.0 | Cash in Bank: -26.00$ | CTR: 0.05% | CPC: 88028.54$\n",
      "C: 160 | Impressions: 133422.0 | Clicks: 75.0 | Cash in Bank: -11.00$ | CTR: 0.06% | CPC: 83333.48$\n",
      "C: 180 | Impressions: 126171.0 | Clicks: 74.0 | Cash in Bank: -23.00$ | CTR: 0.06% | CPC: 84459.77$\n",
      "C: 200 | Impressions: 119944.0 | Clicks: 76.0 | Cash in Bank: -5.00$ | CTR: 0.06% | CPC: 82236.91$\n",
      "C: 220 | Impressions: 114912.0 | Clicks: 75.0 | Cash in Bank: -23.00$ | CTR: 0.07% | CPC: 83333.64$\n",
      "C: 240 | Impressions: 110356.0 | Clicks: 78.0 | Cash in Bank: -18.00$ | CTR: 0.07% | CPC: 80128.44$\n",
      "C: 260 | Impressions: 106172.0 | Clicks: 78.0 | Cash in Bank: -30.00$ | CTR: 0.07% | CPC: 80128.59$\n",
      "C: 280 | Impressions: 103090.0 | Clicks: 73.0 | Cash in Bank: -151.00$ | CTR: 0.07% | CPC: 85618.51$\n",
      "C: 300 | Impressions: 99964.0 | Clicks: 64.0 | Cash in Bank: -60.00$ | CTR: 0.06% | CPC: 97657.19$\n",
      "C: 320 | Impressions: 97545.0 | Clicks: 73.0 | Cash in Bank: -14.00$ | CTR: 0.07% | CPC: 85616.63$\n",
      "C: 340 | Impressions: 95931.0 | Clicks: 69.0 | Cash in Bank: -4.00$ | CTR: 0.07% | CPC: 90579.77$\n",
      "C: 360 | Impressions: 94198.0 | Clicks: 72.0 | Cash in Bank: -19.00$ | CTR: 0.08% | CPC: 86805.82$\n",
      "C: 380 | Impressions: 93321.0 | Clicks: 76.0 | Cash in Bank: -29.00$ | CTR: 0.08% | CPC: 82237.22$\n",
      "C: 400 | Impressions: 92278.0 | Clicks: 78.0 | Cash in Bank: -49.00$ | CTR: 0.08% | CPC: 80128.83$\n",
      "C: 420 | Impressions: 90902.0 | Clicks: 68.0 | Cash in Bank: -96.00$ | CTR: 0.07% | CPC: 91913.18$\n",
      "C: 440 | Impressions: 90226.0 | Clicks: 72.0 | Cash in Bank: -46.00$ | CTR: 0.08% | CPC: 86806.19$\n",
      "C: 460 | Impressions: 89441.0 | Clicks: 71.0 | Cash in Bank: -46.00$ | CTR: 0.08% | CPC: 88028.82$\n",
      "C: 480 | Impressions: 88944.0 | Clicks: 71.0 | Cash in Bank: -47.00$ | CTR: 0.08% | CPC: 88028.83$\n"
     ]
    }
   ],
   "source": [
    "# Now we optimize the parameter for constant bidding\n",
    "param_range = np.arange(40, 500, 20)\n",
    "\n",
    "for i, c in enumerate(param_range):\n",
    "    validate_strategy(apply_strategy(val, c),  c)\n",
    "    print(\"C: {} | Impressions: {} | Clicks: {} | Cash in Bank: {:.2f}$ | CTR: {:.2f}% | CPC: {:.2f}$\".format(c, \n",
    "                                                                                                              float(df_results.tail(1).strategy_impressions), \n",
    "                                                                                                              float(df_results.tail(1).strategy_clicks), \n",
    "                                                                                                              float(df_results.tail(1).cash_in_bank), \n",
    "                                                                                                              float(df_results.tail(1).strategy_CTR), \n",
    "                                                                                                              float(df_results.tail(1).strategy_CPC)))"
   ]
  },
  {
   "cell_type": "markdown",
   "metadata": {},
   "source": [
    "From the results above, it seems that the bid price of 180 provides the best results, because of the highest CTR and lowest CPC with still a high number of clicks and impressions. "
   ]
  },
  {
   "cell_type": "code",
   "execution_count": 5,
   "metadata": {
    "collapsed": false
   },
   "outputs": [],
   "source": [
    "new_val = apply_strategy(val, 240, test=True)\n",
    "new_test = apply_strategy(test, 240, test=True)"
   ]
  },
  {
   "cell_type": "code",
   "execution_count": 6,
   "metadata": {
    "collapsed": false
   },
   "outputs": [],
   "source": [
    "new_val[['bidid', 'strategy_random_bid']].to_csv('random_validation_bids.csv', encoding='utf-8')\n",
    "new_test[['bidid', 'strategy_random_bid']].to_csv('random_testing_bids.csv', encoding='utf-8')"
   ]
  },
  {
   "cell_type": "code",
   "execution_count": null,
   "metadata": {
    "collapsed": true
   },
   "outputs": [],
   "source": []
  }
 ],
 "metadata": {
  "anaconda-cloud": {},
  "kernelspec": {
   "display_name": "Python [conda root]",
   "language": "python",
   "name": "conda-root-py"
  },
  "language_info": {
   "codemirror_mode": {
    "name": "ipython",
    "version": 3
   },
   "file_extension": ".py",
   "mimetype": "text/x-python",
   "name": "python",
   "nbconvert_exporter": "python",
   "pygments_lexer": "ipython3",
   "version": "3.5.2"
  }
 },
 "nbformat": 4,
 "nbformat_minor": 2
}
