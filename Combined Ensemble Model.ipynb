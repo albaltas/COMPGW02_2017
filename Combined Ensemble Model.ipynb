{
 "cells": [
  {
   "cell_type": "markdown",
   "metadata": {},
   "source": [
    "#### COMPGW02 Web Economics - Coursework\n",
    "# Online Advertising: Optimal Bidding Strategy\n",
    "### Alexandros Baltas, Maximilian Bartolo, Gerard Cardoso Negrie\n",
    "Date: 14 April 2017"
   ]
  },
  {
   "cell_type": "markdown",
   "metadata": {},
   "source": [
    "## Introduction"
   ]
  },
  {
   "cell_type": "markdown",
   "metadata": {
    "collapsed": true
   },
   "source": [
    "In this section, we combine the Logistic Regression, One-Class SVM and Neural Network models to create a single bidding strategy."
   ]
  },
  {
   "cell_type": "markdown",
   "metadata": {},
   "source": [
    "### Importing Python Libraries\n",
    "Let's start off my importing the libraries and packages we'll be using for our analysis as well as setting our default options."
   ]
  },
  {
   "cell_type": "code",
   "execution_count": 1,
   "metadata": {
    "collapsed": false
   },
   "outputs": [],
   "source": [
    "# Importing the libraries\n",
    "import matplotlib.mlab as mlab\n",
    "import matplotlib.pyplot as plt\n",
    "import numpy as np\n",
    "import pandas as pd\n",
    "import seaborn as sns\n",
    "import scipy.stats\n",
    "import glob, re, random, itertools, time\n",
    "from collections import Counter, defaultdict\n",
    "from datetime import datetime, timedelta\n",
    "\n",
    "# Importing additional required libraries\n",
    "from sklearn.neighbors import KNeighborsClassifier\n",
    "from sklearn.linear_model import LinearRegression, LogisticRegression\n",
    "from sklearn.svm import LinearSVC, SVC, OneClassSVM\n",
    "from sklearn.gaussian_process import GaussianProcessClassifier\n",
    "from sklearn.gaussian_process.kernels import RBF\n",
    "from sklearn.tree import DecisionTreeClassifier\n",
    "from sklearn.ensemble import AdaBoostClassifier, RandomForestClassifier\n",
    "from sklearn.naive_bayes import GaussianNB\n",
    "from sklearn.feature_selection import RFE\n",
    "from sklearn.model_selection import cross_val_score, train_test_split, GridSearchCV\n",
    "from sklearn.neural_network import MLPClassifier\n",
    "from sklearn.metrics import accuracy_score, f1_score, precision_score, recall_score, confusion_matrix\n",
    "from sklearn import preprocessing\n",
    "from sklearn.decomposition import PCA\n",
    "from mpl_toolkits.mplot3d import Axes3D\n",
    "\n",
    "%matplotlib inline\n",
    "\n",
    "# Set options\n",
    "pd.set_option(\"display.max_colwidth\", 1000)\n",
    "# pd.options.mode.chained_assignment = None  # default='warn'\n",
    "\n",
    "# Set a random seed for repeatability\n",
    "rand_seed = 27\n",
    "random.seed(rand_seed)\n",
    "np.random.seed(rand_seed)"
   ]
  },
  {
   "cell_type": "markdown",
   "metadata": {},
   "source": [
    "### Combined Model\n",
    "We note that performance for our Logistic Regression model is also very good, therefore, we attempt a combined model which ensembles both model predictions."
   ]
  },
  {
   "cell_type": "markdown",
   "metadata": {},
   "source": [
    "#### Validation Function"
   ]
  },
  {
   "cell_type": "code",
   "execution_count": 2,
   "metadata": {
    "collapsed": true
   },
   "outputs": [],
   "source": [
    "glob_cash_in_bank = 25000000\n",
    "glob_cash_in_bank = glob_cash_in_bank * (1)"
   ]
  },
  {
   "cell_type": "code",
   "execution_count": 3,
   "metadata": {
    "collapsed": true
   },
   "outputs": [],
   "source": [
    "def validate_results(df, cash_in_bank, random=True):\n",
    "    col_name_validate = 'bidprice_validate'\n",
    "    \n",
    "    df_temp = df[df[col_name_validate] > 0]\n",
    "    if random == True:\n",
    "        df_temp = df_temp.sample(frac=1, random_state=rand_seed).reset_index(drop=True)\n",
    "    \n",
    "    strategy_impressions = 0\n",
    "    strategy_clicks = 0\n",
    "    n_rows_in_budget = 0\n",
    "    \n",
    "    for row in df_temp.iterrows():\n",
    "        row = row[1]\n",
    "        if cash_in_bank > 0:\n",
    "            n_rows_in_budget += 1\n",
    "            if row[col_name_validate] > row['payprice']: #was bidprice\n",
    "                strategy_impressions += 1\n",
    "                strategy_clicks += int(row['click'])\n",
    "                cash_in_bank -= row['payprice'] #was bidprice but Jun Wang said payprice\n",
    "        else:\n",
    "            break\n",
    "\n",
    "    return cash_in_bank, strategy_impressions, strategy_clicks\n",
    "\n",
    "def calc_results(df_validate, df_submit, budget_ratio):\n",
    "    glob_cash_in_bank = 25000000\n",
    "    glob_cash_in_bank = glob_cash_in_bank * budget_ratio\n",
    "    \n",
    "    cash_in_bank = glob_cash_in_bank\n",
    "    df_validate['bidprice_validate'] = df_submit['bidprice'].copy()\n",
    "\n",
    "    cash_in_bank, strategy_impressions, strategy_clicks = \\\n",
    "                    validate_results(df=df_validate, cash_in_bank=cash_in_bank, random=True)\n",
    "    cost = (glob_cash_in_bank-cash_in_bank)/1000\n",
    "    ctr = strategy_clicks/strategy_impressions\n",
    "    cpc = cost/strategy_clicks\n",
    "    \n",
    "    return cost, strategy_impressions, strategy_clicks, ctr, cpc\n",
    "\n",
    "def print_strategy_results(df_validate, df_submit):\n",
    "    budget_ratios = [1, 1/2, 1/4, 1/8, 1/16]\n",
    "    budget_ratio_names = ['Full', '1/2', '1/4', '1/8', '1/16']\n",
    "    for i, budget_ratio in enumerate(budget_ratios):\n",
    "        cost, strategy_impressions, strategy_clicks, ctr, cpc = calc_results(df_validate, df_submit, budget_ratio)\n",
    "        print (\"{} Budget:\".format(budget_ratio_names[i]))\n",
    "        print (\"Cost: ${:.2f}  |  Impressions: {:.0f}   |   Clicks: {:.0f}  |  CTR: {:.5f}%  |  CPC: ${:.2f}\" \\\n",
    "           .format(cost, strategy_impressions, strategy_clicks, ctr*100, cpc))\n",
    "        print ()"
   ]
  },
  {
   "cell_type": "code",
   "execution_count": 4,
   "metadata": {
    "collapsed": false
   },
   "outputs": [
    {
     "name": "stdout",
     "output_type": "stream",
     "text": [
      "Total clicks in the data set we are validating against is 226\n"
     ]
    }
   ],
   "source": [
    "# Importing the dataset to validate on\n",
    "df_val = pd.read_csv(\"data/validation.csv\")\n",
    "# Total clicks in the validation data set\n",
    "print (\"Total clicks in the data set we are validating against is {}\".format(df_val['click'].sum()))"
   ]
  },
  {
   "cell_type": "code",
   "execution_count": 5,
   "metadata": {
    "collapsed": true
   },
   "outputs": [],
   "source": [
    "col_names = ['bidid', 'bidprice']"
   ]
  },
  {
   "cell_type": "code",
   "execution_count": 6,
   "metadata": {
    "collapsed": true
   },
   "outputs": [],
   "source": [
    "# OCSVM Submissions\n",
    "df_submit_ocsvm = pd.read_csv(\"data/submission_val_ocsvm.csv\")\n",
    "df_submit_ocsvm.columns = col_names\n",
    "df_submit_ocsvm['click_predict'] = df_submit_ocsvm['bidprice'].copy()"
   ]
  },
  {
   "cell_type": "code",
   "execution_count": 7,
   "metadata": {
    "collapsed": true
   },
   "outputs": [],
   "source": [
    "# LR Submissions\n",
    "df_submit_lr = pd.read_csv(\"data/lr_validation_results.csv\")\n",
    "df_submit_lr = df_submit_lr[['bidid', 'clickpred']].copy()\n",
    "df_submit_lr.columns = col_names\n",
    "df_submit_lr['click_predict'] = df_submit_lr['bidprice'].copy()"
   ]
  },
  {
   "cell_type": "code",
   "execution_count": 8,
   "metadata": {
    "collapsed": true
   },
   "outputs": [],
   "source": [
    "# NN Submissions\n",
    "df_submit_nn = pd.read_csv(\"data/nn_val_preds.csv\")\n",
    "df_submit_nn = df_submit_nn[['bidid', 'clickprob']].copy()\n",
    "df_submit_nn.columns = col_names\n",
    "df_submit_nn['click_predict'] = df_submit_nn['bidprice'].copy()"
   ]
  },
  {
   "cell_type": "markdown",
   "metadata": {
    "collapsed": true
   },
   "source": [
    "Next, we combine the three models into one dataframe to facilitate validation."
   ]
  },
  {
   "cell_type": "code",
   "execution_count": 9,
   "metadata": {
    "collapsed": true
   },
   "outputs": [],
   "source": [
    "df_submit_combined = df_submit_ocsvm.copy()\n",
    "df_submit_combined['click_predict_lr'] = df_submit_lr['click_predict'].copy()\n",
    "df_submit_combined['click_predict_nn'] = df_submit_nn['click_predict'].copy()"
   ]
  },
  {
   "cell_type": "markdown",
   "metadata": {},
   "source": [
    "We define a basic constant bidding strategy and validate the results."
   ]
  },
  {
   "cell_type": "code",
   "execution_count": 10,
   "metadata": {
    "collapsed": false
   },
   "outputs": [
    {
     "name": "stdout",
     "output_type": "stream",
     "text": [
      "Full Budget:\n",
      "Cost: $5113.05  |  Impressions: 83167   |   Clicks: 172  |  CTR: 0.20681%  |  CPC: $29.73\n",
      "\n",
      "1/2 Budget:\n",
      "Cost: $5113.05  |  Impressions: 83167   |   Clicks: 172  |  CTR: 0.20681%  |  CPC: $29.73\n",
      "\n",
      "1/4 Budget:\n",
      "Cost: $5113.05  |  Impressions: 83167   |   Clicks: 172  |  CTR: 0.20681%  |  CPC: $29.73\n",
      "\n",
      "1/8 Budget:\n",
      "Cost: $3125.05  |  Impressions: 50694   |   Clicks: 102  |  CTR: 0.20121%  |  CPC: $30.64\n",
      "\n",
      "1/16 Budget:\n",
      "Cost: $1562.53  |  Impressions: 25206   |   Clicks: 58  |  CTR: 0.23010%  |  CPC: $26.94\n",
      "\n"
     ]
    }
   ],
   "source": [
    "c = 177\n",
    "w_ocsvm = 1 # Weighting for the One-Class SVM Model\n",
    "w_lr = 1 # Weighting for the Logistic Regression Model\n",
    "w_nn = 2.5 # Weighting for the Neural Network Model\n",
    "\n",
    "df_submit_combined['bidprice'] = (w_ocsvm*df_submit_combined['click_predict'] + w_lr*df_submit_combined['click_predict_lr'] \\\n",
    "                                 + w_nn*df_submit_combined['click_predict_nn'])*c\n",
    "print_strategy_results(df_val, df_submit_combined)"
   ]
  },
  {
   "cell_type": "markdown",
   "metadata": {},
   "source": [
    "### Generating the Submission File"
   ]
  },
  {
   "cell_type": "code",
   "execution_count": 11,
   "metadata": {
    "collapsed": true
   },
   "outputs": [],
   "source": [
    "col_names = ['bidid', 'bidprice']"
   ]
  },
  {
   "cell_type": "code",
   "execution_count": 12,
   "metadata": {
    "collapsed": true
   },
   "outputs": [],
   "source": [
    "# OCSVM Test Predictions\n",
    "df_submit_ocsvm = pd.read_csv(\"data/submission_test_ocsvm.csv\")\n",
    "df_submit_ocsvm.columns = col_names\n",
    "df_submit_ocsvm['click_predict'] = df_submit_ocsvm['bidprice'].copy()"
   ]
  },
  {
   "cell_type": "code",
   "execution_count": 13,
   "metadata": {
    "collapsed": true
   },
   "outputs": [],
   "source": [
    "# LR Test Predictions\n",
    "df_submit_lr = pd.read_csv(\"data/lr_test_results.csv\")\n",
    "df_submit_lr = df_submit_lr[['bidid', 'clickpred']].copy()\n",
    "df_submit_lr.columns = col_names\n",
    "df_submit_lr['click_predict'] = df_submit_lr['bidprice'].copy()"
   ]
  },
  {
   "cell_type": "code",
   "execution_count": 14,
   "metadata": {
    "collapsed": true
   },
   "outputs": [],
   "source": [
    "# NN Test Predictions\n",
    "df_submit_nn = pd.read_csv(\"data/nn_test_preds.csv\")\n",
    "df_submit_nn = df_submit_nn[['bidid', 'clickprob']].copy()\n",
    "df_submit_nn.columns = col_names\n",
    "df_submit_nn['click_predict'] = df_submit_nn['bidprice'].copy()"
   ]
  },
  {
   "cell_type": "code",
   "execution_count": 15,
   "metadata": {
    "collapsed": true
   },
   "outputs": [],
   "source": [
    "df_submit_combined = df_submit_ocsvm.copy()\n",
    "df_submit_combined['click_predict_lr'] = df_submit_lr['click_predict'].copy()\n",
    "df_submit_combined['click_predict_nn'] = df_submit_nn['click_predict'].copy()"
   ]
  },
  {
   "cell_type": "code",
   "execution_count": 16,
   "metadata": {
    "collapsed": true
   },
   "outputs": [],
   "source": [
    "c = 177\n",
    "w_ocsvm = 1 # Weighting for the One-Class SVM Model\n",
    "w_lr = 1 # Weighting for the Logistic Regression Model\n",
    "w_nn = 2.5 # Weighting for the Neural Network Model\n",
    "\n",
    "df_submit_combined['bidprice'] = (w_ocsvm*df_submit_combined['click_predict'] + w_lr*df_submit_combined['click_predict_lr'] \\\n",
    "                                 + w_nn*df_submit_combined['click_predict_nn'])*c"
   ]
  },
  {
   "cell_type": "code",
   "execution_count": 17,
   "metadata": {
    "collapsed": false
   },
   "outputs": [],
   "source": [
    "# SAVE THE FILE\n",
    "import time\n",
    "t = time.localtime()\n",
    "timestamp = time.strftime('%b-%d-%Y_%H%M', t)\n",
    "df_submit_combined[col_names].to_csv(timestamp + \" testing_bidding_price.csv\", index=False)"
   ]
  },
  {
   "cell_type": "code",
   "execution_count": null,
   "metadata": {
    "collapsed": true
   },
   "outputs": [],
   "source": []
  }
 ],
 "metadata": {
  "anaconda-cloud": {},
  "kernelspec": {
   "display_name": "Python [default]",
   "language": "python",
   "name": "python3"
  },
  "language_info": {
   "codemirror_mode": {
    "name": "ipython",
    "version": 3
   },
   "file_extension": ".py",
   "mimetype": "text/x-python",
   "name": "python",
   "nbconvert_exporter": "python",
   "pygments_lexer": "ipython3",
   "version": "3.5.2"
  }
 },
 "nbformat": 4,
 "nbformat_minor": 2
}
