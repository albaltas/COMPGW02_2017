{
 "cells": [
  {
   "cell_type": "markdown",
   "metadata": {
    "slideshow": {
     "slide_type": "slide"
    }
   },
   "source": [
    "# Web Economics\n",
    "\n",
    "## Bidding Strategy\n",
    "#### Maximilian Bartolo\n",
    "\n",
    "Date: 9th March 2017"
   ]
  },
  {
   "cell_type": "markdown",
   "metadata": {
    "slideshow": {
     "slide_type": "slide"
    }
   },
   "source": [
    "## Overview\n",
    "The purpose of this project is to bid for stuff."
   ]
  },
  {
   "cell_type": "code",
   "execution_count": 1,
   "metadata": {
    "collapsed": false
   },
   "outputs": [],
   "source": [
    "#Step1: Importing the libraries\n",
    "import matplotlib.pyplot as plt\n",
    "import numpy as np\n",
    "import pandas as pd\n",
    "import seaborn as sns #seaborn makes plots cleaner and extends functionality\n",
    "import itertools\n",
    "pd.options.mode.chained_assignment = None  # default='warn'\n",
    "\n",
    "#Import additional required libraries\n",
    "from sklearn.neighbors import KNeighborsClassifier\n",
    "from sklearn.linear_model import LinearRegression, LogisticRegression\n",
    "from sklearn.svm import LinearSVC, SVC, OneClassSVM\n",
    "from sklearn.gaussian_process import GaussianProcessClassifier\n",
    "from sklearn.gaussian_process.kernels import RBF\n",
    "from sklearn.tree import DecisionTreeClassifier\n",
    "from sklearn.ensemble import AdaBoostClassifier, RandomForestClassifier, IsolationForest\n",
    "from sklearn.naive_bayes import GaussianNB\n",
    "from sklearn.feature_selection import RFE\n",
    "from sklearn.model_selection import cross_val_score, train_test_split, GridSearchCV\n",
    "from sklearn.neural_network import MLPClassifier\n",
    "from sklearn.metrics import accuracy_score, f1_score, precision_score, recall_score, precision_recall_fscore_support\n",
    "from sklearn.metrics import confusion_matrix\n",
    "from sklearn import preprocessing\n",
    "from sklearn.decomposition import PCA\n",
    "from mpl_toolkits.mplot3d import Axes3D\n",
    "\n",
    "pd.options.mode.chained_assignment = None  # default='warn'\n",
    "\n",
    "#magic to show the plots within the notebook\n",
    "%matplotlib inline\n",
    "\n",
    "import time\n",
    "import random\n",
    "import re"
   ]
  },
  {
   "cell_type": "markdown",
   "metadata": {},
   "source": [
    "# Importing the Data"
   ]
  },
  {
   "cell_type": "code",
   "execution_count": 19,
   "metadata": {
    "collapsed": false
   },
   "outputs": [],
   "source": [
    "# Importing the dataset\n",
    "df_val = pd.read_csv(\"data/validation.csv\", low_memory=False)"
   ]
  },
  {
   "cell_type": "code",
   "execution_count": 2,
   "metadata": {
    "collapsed": true
   },
   "outputs": [],
   "source": [
    "#Create a sample submission dataset (from val)\n",
    "df_val_submit = pd.read_csv(\"data-submissions/df_val_ensemble.csv\", low_memory=False)\n",
    "df_test_submit = pd.read_csv(\"data-submissions/df_test_ensemble.csv\", low_memory=False)"
   ]
  },
  {
   "cell_type": "code",
   "execution_count": 7,
   "metadata": {
    "collapsed": false
   },
   "outputs": [],
   "source": [
    "cols_of_interest = ['bidid', 'strategy_ensemble_bid']\n",
    "df_val_submit = df_val_submit[cols_of_interest]\n",
    "# df_test_submit = df_test_submit[cols_of_interest]\n",
    "\n",
    "#rename column to bidprice\n",
    "col_names = ['bidid', 'bidprice']\n",
    "df_val_submit.columns = col_names\n",
    "# df_test_submit.columns = col_names"
   ]
  },
  {
   "cell_type": "code",
   "execution_count": 10,
   "metadata": {
    "collapsed": false
   },
   "outputs": [],
   "source": [
    "# Importing the submission data\n",
    "df_test_submit = pd.read_csv(\"data-submissions/2017-03-17 testing_bidding_price.csv\", low_memory=False)"
   ]
  },
  {
   "cell_type": "markdown",
   "metadata": {},
   "source": [
    "### Validation Function"
   ]
  },
  {
   "cell_type": "code",
   "execution_count": 41,
   "metadata": {
    "collapsed": true
   },
   "outputs": [],
   "source": [
    "glob_cash_in_bank = 25000000\n",
    "glob_cash_in_bank = glob_cash_in_bank * (1)"
   ]
  },
  {
   "cell_type": "code",
   "execution_count": 42,
   "metadata": {
    "collapsed": true
   },
   "outputs": [],
   "source": [
    "def calc_score(n_impressions, n_clicks, n_rows_in_budget, cash_in_bank):\n",
    "    #alphas = [0.8, 0.15, 0, 0.05, 0.005, 0.005]\n",
    "    alphas = [1, 0, 0, 0, 0, 0]\n",
    "    normalizers = [1, 1, 1, glob_cash_in_bank, 1/500, 1/100]\n",
    "    alphas = [x/y for x, y in zip(alphas, normalizers)]\n",
    "    \n",
    "    if n_impressions > 0:\n",
    "        ctr = n_clicks/n_impressions\n",
    "    else:\n",
    "        ctr = 0\n",
    "    conversions = n_clicks\n",
    "    cvr = 0\n",
    "    spend = glob_cash_in_bank - cash_in_bank\n",
    "    \n",
    "    if n_impressions > 0:\n",
    "        avg_cpm = spend/(n_impressions*1000)\n",
    "    else:\n",
    "        avg_cpm = 1\n",
    "    if n_clicks > 0:\n",
    "        avg_cpc = spend/n_clicks\n",
    "    else:\n",
    "        avg_cpc = 1\n",
    "    \n",
    "    score_components = [\n",
    "                        alphas[0]*ctr,\n",
    "                        alphas[1]*conversions,\n",
    "                        alphas[2]*cvr,\n",
    "                        -1*alphas[3]*(spend),\n",
    "                        -1*alphas[4]*(avg_cpm), \n",
    "                        -1*alphas[5]*(avg_cpc)\n",
    "                       ]\n",
    "    score = sum(score_components)\n",
    "    return score, score_components"
   ]
  },
  {
   "cell_type": "code",
   "execution_count": 43,
   "metadata": {
    "collapsed": true
   },
   "outputs": [],
   "source": [
    "rand_seed = 27\n",
    "random.seed(rand_seed)\n",
    "np.random.seed(rand_seed)\n",
    "\n",
    "def validate_results(df, cash_in_bank, random=True):\n",
    "    col_name_validate = 'bidprice_validate'\n",
    "    \n",
    "    df_temp = df[df[col_name_validate] > 0]\n",
    "    if random == True:\n",
    "        df_temp = df_temp.sample(frac=1, random_state=rand_seed).reset_index(drop=True)\n",
    "    \n",
    "    strategy_impressions = 0\n",
    "    strategy_clicks = 0\n",
    "    n_rows_in_budget = 0\n",
    "    \n",
    "    for row in df_temp.iterrows():\n",
    "        row = row[1]\n",
    "        if cash_in_bank > 0:\n",
    "            n_rows_in_budget += 1\n",
    "            if row[col_name_validate] > row['payprice']: #was bidprice\n",
    "                strategy_impressions += 1\n",
    "                strategy_clicks += int(row['click'])\n",
    "                cash_in_bank -= row['payprice'] #was bidprice but Jun Wang said payprice\n",
    "        else:\n",
    "            break\n",
    "\n",
    "    score, score_components = calc_score(strategy_impressions, strategy_clicks, n_rows_in_budget, cash_in_bank)\n",
    "    return score, score_components, cash_in_bank, strategy_impressions, strategy_clicks"
   ]
  },
  {
   "cell_type": "code",
   "execution_count": 52,
   "metadata": {
    "collapsed": false
   },
   "outputs": [],
   "source": [
    "def calc_results(budget_ratio):\n",
    "    glob_cash_in_bank = 25000000\n",
    "    glob_cash_in_bank = glob_cash_in_bank * budget_ratio\n",
    "    \n",
    "    cash_in_bank = glob_cash_in_bank\n",
    "    df_validate = df_val.copy()\n",
    "    df_validate['bidprice_validate'] = df_val_submit['bidprice'].copy()\n",
    "\n",
    "    score, score_components, cash_in_bank, strategy_impressions, strategy_clicks = \\\n",
    "                    validate_results(df=df_validate, cash_in_bank=cash_in_bank, random=True)\n",
    "    cost = (glob_cash_in_bank-cash_in_bank)/1000\n",
    "    ctr = strategy_clicks/strategy_impressions\n",
    "    cpc = cost/strategy_clicks\n",
    "    \n",
    "    return cost, strategy_impressions, strategy_clicks, ctr, cpc"
   ]
  },
  {
   "cell_type": "code",
   "execution_count": 54,
   "metadata": {
    "collapsed": false
   },
   "outputs": [
    {
     "name": "stdout",
     "output_type": "stream",
     "text": [
      "Full Budget:\n",
      "Cost: $7689.70  |  Impressions: 88747   |   Clicks: 116  |  CTR: 0.00131%  |  CPC: $66.29\n",
      "\n",
      "1/2 Budget:\n",
      "Cost: $7689.70  |  Impressions: 88747   |   Clicks: 116  |  CTR: 0.00131%  |  CPC: $66.29\n",
      "\n",
      "1/4 Budget:\n",
      "Cost: $6250.05  |  Impressions: 72111   |   Clicks: 93  |  CTR: 0.00129%  |  CPC: $67.20\n",
      "\n",
      "1/8 Budget:\n",
      "Cost: $3125.00  |  Impressions: 35881   |   Clicks: 46  |  CTR: 0.00128%  |  CPC: $67.93\n",
      "\n",
      "1/16 Budget:\n",
      "Cost: $1562.54  |  Impressions: 17896   |   Clicks: 24  |  CTR: 0.00134%  |  CPC: $65.11\n",
      "\n"
     ]
    }
   ],
   "source": [
    "budget_ratios = [1, 1/2, 1/4, 1/8, 1/16]\n",
    "budget_ratio_names = ['Full', '1/2', '1/4', '1/8', '1/16']\n",
    "for i, budget_ratio in enumerate(budget_ratios):\n",
    "    cost, strategy_impressions, strategy_clicks, ctr, cpc = calc_results(budget_ratio)\n",
    "    print (\"{} Budget:\".format(budget_ratio_names[i]))\n",
    "    print (\"Cost: ${:.2f}  |  Impressions: {:.0f}   |   Clicks: {:.0f}  |  CTR: {:.5f}%  |  CPC: ${:.2f}\" \\\n",
    "       .format(cost, strategy_impressions, strategy_clicks, ctr, cpc))\n",
    "    print ()"
   ]
  },
  {
   "cell_type": "code",
   "execution_count": null,
   "metadata": {
    "collapsed": true
   },
   "outputs": [],
   "source": []
  },
  {
   "cell_type": "markdown",
   "metadata": {},
   "source": [
    "## Preliminary Submission Results"
   ]
  },
  {
   "cell_type": "markdown",
   "metadata": {},
   "source": [
    "#### Preliminary submission results on Validation set:\n",
    "```\n",
    "Full Budget:\n",
    "Cost: $7689.70  |  Impressions: 88747   |   Clicks: 116  |  CTR: 0.00131%  |  CPC: $66.29\n",
    "\n",
    "1/2 Budget:\n",
    "Cost: $7689.70  |  Impressions: 88747   |   Clicks: 116  |  CTR: 0.00131%  |  CPC: $66.29\n",
    "\n",
    "1/4 Budget:\n",
    "Cost: $6250.05  |  Impressions: 72111   |   Clicks: 93  |  CTR: 0.00129%  |  CPC: $67.20\n",
    "\n",
    "1/8 Budget:\n",
    "Cost: $3125.00  |  Impressions: 35881   |   Clicks: 46  |  CTR: 0.00128%  |  CPC: $67.93\n",
    "\n",
    "1/16 Budget:\n",
    "Cost: $1562.54  |  Impressions: 17896   |   Clicks: 24  |  CTR: 0.00134%  |  CPC: $65.11\n",
    "```"
   ]
  },
  {
   "cell_type": "markdown",
   "metadata": {},
   "source": [
    "#### Preliminary submission results on Test set:\n",
    "```\n",
    "Full Budget:\n",
    "Cost: $7756.04  |  Impressions: 89606   |   Clicks: 109  |  CTR: 0.00122%  |  CPC: $71.16\n",
    "\n",
    "1/2 Budget:\n",
    "Cost: $7756.04  |  Impressions: 89606   |   Clicks: 109  |  CTR: 0.00122%  |  CPC: $71.16\n",
    "\n",
    "1/4 Budget:\n",
    "Cost: $6249.99  |  Impressions: 72154   |   Clicks: 87  |  CTR: 0.00121%  |  CPC: $71.84\n",
    "\n",
    "1/8 Budget:\n",
    "Cost: $3124.99  |  Impressions: 35961   |   Clicks: 42  |  CTR: 0.00117%  |  CPC: $74.40\n",
    "\n",
    "1/16 Budget:\n",
    "Cost: $1562.00  |  Impressions: 17918   |   Clicks: 20  |  CTR: 0.00111%  |  CPC: $78.10\n",
    "```"
   ]
  },
  {
   "cell_type": "code",
   "execution_count": null,
   "metadata": {
    "collapsed": true
   },
   "outputs": [],
   "source": []
  },
  {
   "cell_type": "code",
   "execution_count": null,
   "metadata": {
    "collapsed": true
   },
   "outputs": [],
   "source": []
  }
 ],
 "metadata": {
  "anaconda-cloud": {},
  "kernelspec": {
   "display_name": "Python [default]",
   "language": "python",
   "name": "python3"
  },
  "language_info": {
   "codemirror_mode": {
    "name": "ipython",
    "version": 3
   },
   "file_extension": ".py",
   "mimetype": "text/x-python",
   "name": "python",
   "nbconvert_exporter": "python",
   "pygments_lexer": "ipython3",
   "version": "3.5.2"
  }
 },
 "nbformat": 4,
 "nbformat_minor": 1
}
